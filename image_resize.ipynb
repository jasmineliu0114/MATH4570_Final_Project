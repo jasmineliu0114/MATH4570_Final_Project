{
  "nbformat": 4,
  "nbformat_minor": 0,
  "metadata": {
    "colab": {
      "provenance": []
    },
    "kernelspec": {
      "name": "python3",
      "display_name": "Python 3"
    },
    "language_info": {
      "name": "python"
    }
  },
  "cells": [
    {
      "cell_type": "markdown",
      "source": [
        "# Loading data fron Kaggle"
      ],
      "metadata": {
        "id": "yZpnbzM0nL0C"
      }
    },
    {
      "cell_type": "code",
      "source": [
        "!pip install kaggle"
      ],
      "metadata": {
        "colab": {
          "base_uri": "https://localhost:8080/"
        },
        "id": "mN0l6TAZd_Pj",
        "outputId": "0aa3777f-945d-4832-f2ba-1e5949b737e3"
      },
      "execution_count": null,
      "outputs": [
        {
          "output_type": "stream",
          "name": "stdout",
          "text": [
            "Requirement already satisfied: kaggle in /usr/local/lib/python3.10/dist-packages (1.5.16)\n",
            "Requirement already satisfied: six>=1.10 in /usr/local/lib/python3.10/dist-packages (from kaggle) (1.16.0)\n",
            "Requirement already satisfied: certifi in /usr/local/lib/python3.10/dist-packages (from kaggle) (2024.2.2)\n",
            "Requirement already satisfied: python-dateutil in /usr/local/lib/python3.10/dist-packages (from kaggle) (2.8.2)\n",
            "Requirement already satisfied: requests in /usr/local/lib/python3.10/dist-packages (from kaggle) (2.31.0)\n",
            "Requirement already satisfied: tqdm in /usr/local/lib/python3.10/dist-packages (from kaggle) (4.66.2)\n",
            "Requirement already satisfied: python-slugify in /usr/local/lib/python3.10/dist-packages (from kaggle) (8.0.4)\n",
            "Requirement already satisfied: urllib3 in /usr/local/lib/python3.10/dist-packages (from kaggle) (2.0.7)\n",
            "Requirement already satisfied: bleach in /usr/local/lib/python3.10/dist-packages (from kaggle) (6.1.0)\n",
            "Requirement already satisfied: webencodings in /usr/local/lib/python3.10/dist-packages (from bleach->kaggle) (0.5.1)\n",
            "Requirement already satisfied: text-unidecode>=1.3 in /usr/local/lib/python3.10/dist-packages (from python-slugify->kaggle) (1.3)\n",
            "Requirement already satisfied: charset-normalizer<4,>=2 in /usr/local/lib/python3.10/dist-packages (from requests->kaggle) (3.3.2)\n",
            "Requirement already satisfied: idna<4,>=2.5 in /usr/local/lib/python3.10/dist-packages (from requests->kaggle) (3.6)\n"
          ]
        }
      ]
    },
    {
      "cell_type": "code",
      "source": [
        "from google.colab import files\n",
        "uploaded = files.upload()"
      ],
      "metadata": {
        "colab": {
          "base_uri": "https://localhost:8080/",
          "height": 74
        },
        "id": "ETxKs4KEj4zc",
        "outputId": "f5b45380-7542-4879-a260-188ba45a6662"
      },
      "execution_count": 1,
      "outputs": [
        {
          "output_type": "display_data",
          "data": {
            "text/plain": [
              "<IPython.core.display.HTML object>"
            ],
            "text/html": [
              "\n",
              "     <input type=\"file\" id=\"files-06421a00-700c-428f-847a-3240fcfd4bcb\" name=\"files[]\" multiple disabled\n",
              "        style=\"border:none\" />\n",
              "     <output id=\"result-06421a00-700c-428f-847a-3240fcfd4bcb\">\n",
              "      Upload widget is only available when the cell has been executed in the\n",
              "      current browser session. Please rerun this cell to enable.\n",
              "      </output>\n",
              "      <script>// Copyright 2017 Google LLC\n",
              "//\n",
              "// Licensed under the Apache License, Version 2.0 (the \"License\");\n",
              "// you may not use this file except in compliance with the License.\n",
              "// You may obtain a copy of the License at\n",
              "//\n",
              "//      http://www.apache.org/licenses/LICENSE-2.0\n",
              "//\n",
              "// Unless required by applicable law or agreed to in writing, software\n",
              "// distributed under the License is distributed on an \"AS IS\" BASIS,\n",
              "// WITHOUT WARRANTIES OR CONDITIONS OF ANY KIND, either express or implied.\n",
              "// See the License for the specific language governing permissions and\n",
              "// limitations under the License.\n",
              "\n",
              "/**\n",
              " * @fileoverview Helpers for google.colab Python module.\n",
              " */\n",
              "(function(scope) {\n",
              "function span(text, styleAttributes = {}) {\n",
              "  const element = document.createElement('span');\n",
              "  element.textContent = text;\n",
              "  for (const key of Object.keys(styleAttributes)) {\n",
              "    element.style[key] = styleAttributes[key];\n",
              "  }\n",
              "  return element;\n",
              "}\n",
              "\n",
              "// Max number of bytes which will be uploaded at a time.\n",
              "const MAX_PAYLOAD_SIZE = 100 * 1024;\n",
              "\n",
              "function _uploadFiles(inputId, outputId) {\n",
              "  const steps = uploadFilesStep(inputId, outputId);\n",
              "  const outputElement = document.getElementById(outputId);\n",
              "  // Cache steps on the outputElement to make it available for the next call\n",
              "  // to uploadFilesContinue from Python.\n",
              "  outputElement.steps = steps;\n",
              "\n",
              "  return _uploadFilesContinue(outputId);\n",
              "}\n",
              "\n",
              "// This is roughly an async generator (not supported in the browser yet),\n",
              "// where there are multiple asynchronous steps and the Python side is going\n",
              "// to poll for completion of each step.\n",
              "// This uses a Promise to block the python side on completion of each step,\n",
              "// then passes the result of the previous step as the input to the next step.\n",
              "function _uploadFilesContinue(outputId) {\n",
              "  const outputElement = document.getElementById(outputId);\n",
              "  const steps = outputElement.steps;\n",
              "\n",
              "  const next = steps.next(outputElement.lastPromiseValue);\n",
              "  return Promise.resolve(next.value.promise).then((value) => {\n",
              "    // Cache the last promise value to make it available to the next\n",
              "    // step of the generator.\n",
              "    outputElement.lastPromiseValue = value;\n",
              "    return next.value.response;\n",
              "  });\n",
              "}\n",
              "\n",
              "/**\n",
              " * Generator function which is called between each async step of the upload\n",
              " * process.\n",
              " * @param {string} inputId Element ID of the input file picker element.\n",
              " * @param {string} outputId Element ID of the output display.\n",
              " * @return {!Iterable<!Object>} Iterable of next steps.\n",
              " */\n",
              "function* uploadFilesStep(inputId, outputId) {\n",
              "  const inputElement = document.getElementById(inputId);\n",
              "  inputElement.disabled = false;\n",
              "\n",
              "  const outputElement = document.getElementById(outputId);\n",
              "  outputElement.innerHTML = '';\n",
              "\n",
              "  const pickedPromise = new Promise((resolve) => {\n",
              "    inputElement.addEventListener('change', (e) => {\n",
              "      resolve(e.target.files);\n",
              "    });\n",
              "  });\n",
              "\n",
              "  const cancel = document.createElement('button');\n",
              "  inputElement.parentElement.appendChild(cancel);\n",
              "  cancel.textContent = 'Cancel upload';\n",
              "  const cancelPromise = new Promise((resolve) => {\n",
              "    cancel.onclick = () => {\n",
              "      resolve(null);\n",
              "    };\n",
              "  });\n",
              "\n",
              "  // Wait for the user to pick the files.\n",
              "  const files = yield {\n",
              "    promise: Promise.race([pickedPromise, cancelPromise]),\n",
              "    response: {\n",
              "      action: 'starting',\n",
              "    }\n",
              "  };\n",
              "\n",
              "  cancel.remove();\n",
              "\n",
              "  // Disable the input element since further picks are not allowed.\n",
              "  inputElement.disabled = true;\n",
              "\n",
              "  if (!files) {\n",
              "    return {\n",
              "      response: {\n",
              "        action: 'complete',\n",
              "      }\n",
              "    };\n",
              "  }\n",
              "\n",
              "  for (const file of files) {\n",
              "    const li = document.createElement('li');\n",
              "    li.append(span(file.name, {fontWeight: 'bold'}));\n",
              "    li.append(span(\n",
              "        `(${file.type || 'n/a'}) - ${file.size} bytes, ` +\n",
              "        `last modified: ${\n",
              "            file.lastModifiedDate ? file.lastModifiedDate.toLocaleDateString() :\n",
              "                                    'n/a'} - `));\n",
              "    const percent = span('0% done');\n",
              "    li.appendChild(percent);\n",
              "\n",
              "    outputElement.appendChild(li);\n",
              "\n",
              "    const fileDataPromise = new Promise((resolve) => {\n",
              "      const reader = new FileReader();\n",
              "      reader.onload = (e) => {\n",
              "        resolve(e.target.result);\n",
              "      };\n",
              "      reader.readAsArrayBuffer(file);\n",
              "    });\n",
              "    // Wait for the data to be ready.\n",
              "    let fileData = yield {\n",
              "      promise: fileDataPromise,\n",
              "      response: {\n",
              "        action: 'continue',\n",
              "      }\n",
              "    };\n",
              "\n",
              "    // Use a chunked sending to avoid message size limits. See b/62115660.\n",
              "    let position = 0;\n",
              "    do {\n",
              "      const length = Math.min(fileData.byteLength - position, MAX_PAYLOAD_SIZE);\n",
              "      const chunk = new Uint8Array(fileData, position, length);\n",
              "      position += length;\n",
              "\n",
              "      const base64 = btoa(String.fromCharCode.apply(null, chunk));\n",
              "      yield {\n",
              "        response: {\n",
              "          action: 'append',\n",
              "          file: file.name,\n",
              "          data: base64,\n",
              "        },\n",
              "      };\n",
              "\n",
              "      let percentDone = fileData.byteLength === 0 ?\n",
              "          100 :\n",
              "          Math.round((position / fileData.byteLength) * 100);\n",
              "      percent.textContent = `${percentDone}% done`;\n",
              "\n",
              "    } while (position < fileData.byteLength);\n",
              "  }\n",
              "\n",
              "  // All done.\n",
              "  yield {\n",
              "    response: {\n",
              "      action: 'complete',\n",
              "    }\n",
              "  };\n",
              "}\n",
              "\n",
              "scope.google = scope.google || {};\n",
              "scope.google.colab = scope.google.colab || {};\n",
              "scope.google.colab._files = {\n",
              "  _uploadFiles,\n",
              "  _uploadFilesContinue,\n",
              "};\n",
              "})(self);\n",
              "</script> "
            ]
          },
          "metadata": {}
        },
        {
          "output_type": "stream",
          "name": "stdout",
          "text": [
            "Saving kaggle.json to kaggle.json\n"
          ]
        }
      ]
    },
    {
      "cell_type": "code",
      "source": [
        "# Ensure the Kaggle directory exists and set the permissions without trying to recreate it\n",
        "!mkdir -p ~/.kaggle  # The -p flag ensures that mkdir doesn't throw an error if the directory already exists\n",
        "!cp kaggle.json ~/.kaggle/\n",
        "!chmod 600 ~/.kaggle/kaggle.json\n"
      ],
      "metadata": {
        "id": "iddPHby5kvU0"
      },
      "execution_count": 2,
      "outputs": []
    },
    {
      "cell_type": "code",
      "source": [
        "!kaggle datasets download -d yuerugong/project1-zeta-surgical"
      ],
      "metadata": {
        "colab": {
          "base_uri": "https://localhost:8080/"
        },
        "id": "lHii7i7Kkykk",
        "outputId": "a05ac33e-0d0e-406f-cd48-653e51640497"
      },
      "execution_count": 4,
      "outputs": [
        {
          "output_type": "stream",
          "name": "stdout",
          "text": [
            "Downloading project1-zeta-surgical.zip to /content\n",
            "100% 9.43G/9.44G [01:48<00:00, 130MB/s]\n",
            "100% 9.44G/9.44G [01:48<00:00, 93.3MB/s]\n"
          ]
        }
      ]
    },
    {
      "cell_type": "code",
      "source": [
        "!unzip -q '/content/project1-zeta-surgical.zip' -d '/content/'"
      ],
      "metadata": {
        "id": "I2O0JT35ln_o"
      },
      "execution_count": 6,
      "outputs": []
    },
    {
      "cell_type": "code",
      "source": [
        "!ls /content/renders/renders/\n",
        "\n"
      ],
      "metadata": {
        "colab": {
          "base_uri": "https://localhost:8080/"
        },
        "id": "-1cBa5osqc24",
        "outputId": "32fe1a17-6270-4268-e583-963eccaecea6"
      },
      "execution_count": 8,
      "outputs": [
        {
          "output_type": "stream",
          "name": "stdout",
          "text": [
            "epidural  intraparenchymal  intraventricular  multi  normal  subarachnoid  subdural\n"
          ]
        }
      ]
    },
    {
      "cell_type": "code",
      "source": [
        "!ls /content"
      ],
      "metadata": {
        "colab": {
          "base_uri": "https://localhost:8080/"
        },
        "id": "OT_mi5CV5fle",
        "outputId": "bfe90931-7cd3-4ae7-85fe-07cfe31dd217"
      },
      "execution_count": 9,
      "outputs": [
        {
          "output_type": "stream",
          "name": "stdout",
          "text": [
            " flagged.txt\n",
            " hemorrhage-labels.csv\n",
            " kaggle.json\n",
            " project1-zeta-surgical.zip\n",
            " renders\n",
            "'Results_Brain Hemorrhage Tracing_2020-09-28_15.21.52.597.csv'\n",
            "'Results_Epidural Hemorrhage Detection_2020-11-16_21.31.26.148.csv'\n",
            "'Results_Intraparenchymal Hemorrhage Detection_2020-11-16_21.39.31.268.csv'\n",
            "'Results_Multiple Hemorrhage Detection_2020-11-16_21.36.24.018.csv'\n",
            "'Results_Subarachnoid Hemorrhage Detection_2020-11-16_21.36.18.668.csv'\n",
            "'Results_Subdural Hemorrhage Detection_2020-11-16_21.35.48.040.csv'\n",
            "'Results_Subdural Hemorrhage Detection_2020-11-16_21.37.19.745.csv'\n",
            " sample_data\n",
            "'Segmentation Glossary (1).rtf'\n",
            "'Segmentation Glossary.rtf'\n"
          ]
        }
      ]
    },
    {
      "cell_type": "code",
      "source": [
        "!find /content -name 'project1-zeta-surgical.zip'\n"
      ],
      "metadata": {
        "colab": {
          "base_uri": "https://localhost:8080/"
        },
        "id": "WrXEVhcgrv8r",
        "outputId": "5f5f1dbf-4837-4097-d326-f5fce0e9c8f9"
      },
      "execution_count": 10,
      "outputs": [
        {
          "output_type": "stream",
          "name": "stdout",
          "text": [
            "/content/project1-zeta-surgical.zip\n"
          ]
        }
      ]
    },
    {
      "cell_type": "markdown",
      "source": [
        "# Library Import"
      ],
      "metadata": {
        "id": "yYuvyiPGeHrK"
      }
    },
    {
      "cell_type": "code",
      "source": [
        "import os\n",
        "import numpy as np\n",
        "import pandas as pd\n",
        "import matplotlib.pyplot as plt\n",
        "import matplotlib.patches as patches\n",
        "from PIL import Image\n",
        "import json\n",
        "from sklearn.model_selection import train_test_split\n",
        "from sklearn.linear_model import Perceptron\n",
        "import tensorflow as tf\n",
        "import keras\n",
        "import seaborn as sns\n",
        "from keras.models import Sequential\n",
        "from PIL import Image\n",
        "from keras.layers import Conv2D,Flatten,Dense,Dropout,BatchNormalization,MaxPooling2D\n",
        "#from sklearn.preprocessing import OneHotEncoder\n",
        "import matplotlib\n",
        "from sklearn.linear_model import LogisticRegression\n",
        "from sklearn import preprocessing\n",
        "from sklearn.metrics import confusion_matrix\n",
        "from keras.utils import to_categorical"
      ],
      "metadata": {
        "id": "teJnFKET6ZQq"
      },
      "execution_count": 3,
      "outputs": []
    },
    {
      "cell_type": "markdown",
      "source": [
        "# Loading The Data - 200 Each"
      ],
      "metadata": {
        "id": "Ne3I7_nmcAq4"
      }
    },
    {
      "cell_type": "code",
      "source": [
        "hemmorrhage_labels_df = pd.read_csv('hemorrhage-labels.csv')\n",
        "hemmorrhage_labels_df"
      ],
      "metadata": {
        "colab": {
          "base_uri": "https://localhost:8080/",
          "height": 0
        },
        "id": "SNGyWuSR6u1Q",
        "outputId": "692be3b3-fb2c-4979-e243-621c681b9b0c"
      },
      "execution_count": 4,
      "outputs": [
        {
          "output_type": "execute_result",
          "data": {
            "text/plain": [
              "               Image  any  epidural  intraparenchymal  intraventricular  \\\n",
              "0       ID_000012eaf    0         0                 0                 0   \n",
              "1       ID_000039fa0    0         0                 0                 0   \n",
              "2       ID_00005679d    0         0                 0                 0   \n",
              "3       ID_00008ce3c    0         0                 0                 0   \n",
              "4       ID_0000950d7    0         0                 0                 0   \n",
              "...              ...  ...       ...               ...               ...   \n",
              "752798  ID_ffff82e46    0         0                 0                 0   \n",
              "752799  ID_ffff922b9    1         0                 0                 1   \n",
              "752800  ID_ffffb670a    1         0                 0                 0   \n",
              "752801  ID_ffffcbff8    0         0                 0                 0   \n",
              "752802  ID_fffff9393    0         0                 0                 0   \n",
              "\n",
              "        subarachnoid  subdural  \n",
              "0                  0         0  \n",
              "1                  0         0  \n",
              "2                  0         0  \n",
              "3                  0         0  \n",
              "4                  0         0  \n",
              "...              ...       ...  \n",
              "752798             0         0  \n",
              "752799             0         0  \n",
              "752800             1         0  \n",
              "752801             0         0  \n",
              "752802             0         0  \n",
              "\n",
              "[752803 rows x 7 columns]"
            ],
            "text/html": [
              "\n",
              "  <div id=\"df-2765ae1e-661e-4eab-b329-c16378b1b4c0\" class=\"colab-df-container\">\n",
              "    <div>\n",
              "<style scoped>\n",
              "    .dataframe tbody tr th:only-of-type {\n",
              "        vertical-align: middle;\n",
              "    }\n",
              "\n",
              "    .dataframe tbody tr th {\n",
              "        vertical-align: top;\n",
              "    }\n",
              "\n",
              "    .dataframe thead th {\n",
              "        text-align: right;\n",
              "    }\n",
              "</style>\n",
              "<table border=\"1\" class=\"dataframe\">\n",
              "  <thead>\n",
              "    <tr style=\"text-align: right;\">\n",
              "      <th></th>\n",
              "      <th>Image</th>\n",
              "      <th>any</th>\n",
              "      <th>epidural</th>\n",
              "      <th>intraparenchymal</th>\n",
              "      <th>intraventricular</th>\n",
              "      <th>subarachnoid</th>\n",
              "      <th>subdural</th>\n",
              "    </tr>\n",
              "  </thead>\n",
              "  <tbody>\n",
              "    <tr>\n",
              "      <th>0</th>\n",
              "      <td>ID_000012eaf</td>\n",
              "      <td>0</td>\n",
              "      <td>0</td>\n",
              "      <td>0</td>\n",
              "      <td>0</td>\n",
              "      <td>0</td>\n",
              "      <td>0</td>\n",
              "    </tr>\n",
              "    <tr>\n",
              "      <th>1</th>\n",
              "      <td>ID_000039fa0</td>\n",
              "      <td>0</td>\n",
              "      <td>0</td>\n",
              "      <td>0</td>\n",
              "      <td>0</td>\n",
              "      <td>0</td>\n",
              "      <td>0</td>\n",
              "    </tr>\n",
              "    <tr>\n",
              "      <th>2</th>\n",
              "      <td>ID_00005679d</td>\n",
              "      <td>0</td>\n",
              "      <td>0</td>\n",
              "      <td>0</td>\n",
              "      <td>0</td>\n",
              "      <td>0</td>\n",
              "      <td>0</td>\n",
              "    </tr>\n",
              "    <tr>\n",
              "      <th>3</th>\n",
              "      <td>ID_00008ce3c</td>\n",
              "      <td>0</td>\n",
              "      <td>0</td>\n",
              "      <td>0</td>\n",
              "      <td>0</td>\n",
              "      <td>0</td>\n",
              "      <td>0</td>\n",
              "    </tr>\n",
              "    <tr>\n",
              "      <th>4</th>\n",
              "      <td>ID_0000950d7</td>\n",
              "      <td>0</td>\n",
              "      <td>0</td>\n",
              "      <td>0</td>\n",
              "      <td>0</td>\n",
              "      <td>0</td>\n",
              "      <td>0</td>\n",
              "    </tr>\n",
              "    <tr>\n",
              "      <th>...</th>\n",
              "      <td>...</td>\n",
              "      <td>...</td>\n",
              "      <td>...</td>\n",
              "      <td>...</td>\n",
              "      <td>...</td>\n",
              "      <td>...</td>\n",
              "      <td>...</td>\n",
              "    </tr>\n",
              "    <tr>\n",
              "      <th>752798</th>\n",
              "      <td>ID_ffff82e46</td>\n",
              "      <td>0</td>\n",
              "      <td>0</td>\n",
              "      <td>0</td>\n",
              "      <td>0</td>\n",
              "      <td>0</td>\n",
              "      <td>0</td>\n",
              "    </tr>\n",
              "    <tr>\n",
              "      <th>752799</th>\n",
              "      <td>ID_ffff922b9</td>\n",
              "      <td>1</td>\n",
              "      <td>0</td>\n",
              "      <td>0</td>\n",
              "      <td>1</td>\n",
              "      <td>0</td>\n",
              "      <td>0</td>\n",
              "    </tr>\n",
              "    <tr>\n",
              "      <th>752800</th>\n",
              "      <td>ID_ffffb670a</td>\n",
              "      <td>1</td>\n",
              "      <td>0</td>\n",
              "      <td>0</td>\n",
              "      <td>0</td>\n",
              "      <td>1</td>\n",
              "      <td>0</td>\n",
              "    </tr>\n",
              "    <tr>\n",
              "      <th>752801</th>\n",
              "      <td>ID_ffffcbff8</td>\n",
              "      <td>0</td>\n",
              "      <td>0</td>\n",
              "      <td>0</td>\n",
              "      <td>0</td>\n",
              "      <td>0</td>\n",
              "      <td>0</td>\n",
              "    </tr>\n",
              "    <tr>\n",
              "      <th>752802</th>\n",
              "      <td>ID_fffff9393</td>\n",
              "      <td>0</td>\n",
              "      <td>0</td>\n",
              "      <td>0</td>\n",
              "      <td>0</td>\n",
              "      <td>0</td>\n",
              "      <td>0</td>\n",
              "    </tr>\n",
              "  </tbody>\n",
              "</table>\n",
              "<p>752803 rows × 7 columns</p>\n",
              "</div>\n",
              "    <div class=\"colab-df-buttons\">\n",
              "\n",
              "  <div class=\"colab-df-container\">\n",
              "    <button class=\"colab-df-convert\" onclick=\"convertToInteractive('df-2765ae1e-661e-4eab-b329-c16378b1b4c0')\"\n",
              "            title=\"Convert this dataframe to an interactive table.\"\n",
              "            style=\"display:none;\">\n",
              "\n",
              "  <svg xmlns=\"http://www.w3.org/2000/svg\" height=\"24px\" viewBox=\"0 -960 960 960\">\n",
              "    <path d=\"M120-120v-720h720v720H120Zm60-500h600v-160H180v160Zm220 220h160v-160H400v160Zm0 220h160v-160H400v160ZM180-400h160v-160H180v160Zm440 0h160v-160H620v160ZM180-180h160v-160H180v160Zm440 0h160v-160H620v160Z\"/>\n",
              "  </svg>\n",
              "    </button>\n",
              "\n",
              "  <style>\n",
              "    .colab-df-container {\n",
              "      display:flex;\n",
              "      gap: 12px;\n",
              "    }\n",
              "\n",
              "    .colab-df-convert {\n",
              "      background-color: #E8F0FE;\n",
              "      border: none;\n",
              "      border-radius: 50%;\n",
              "      cursor: pointer;\n",
              "      display: none;\n",
              "      fill: #1967D2;\n",
              "      height: 32px;\n",
              "      padding: 0 0 0 0;\n",
              "      width: 32px;\n",
              "    }\n",
              "\n",
              "    .colab-df-convert:hover {\n",
              "      background-color: #E2EBFA;\n",
              "      box-shadow: 0px 1px 2px rgba(60, 64, 67, 0.3), 0px 1px 3px 1px rgba(60, 64, 67, 0.15);\n",
              "      fill: #174EA6;\n",
              "    }\n",
              "\n",
              "    .colab-df-buttons div {\n",
              "      margin-bottom: 4px;\n",
              "    }\n",
              "\n",
              "    [theme=dark] .colab-df-convert {\n",
              "      background-color: #3B4455;\n",
              "      fill: #D2E3FC;\n",
              "    }\n",
              "\n",
              "    [theme=dark] .colab-df-convert:hover {\n",
              "      background-color: #434B5C;\n",
              "      box-shadow: 0px 1px 3px 1px rgba(0, 0, 0, 0.15);\n",
              "      filter: drop-shadow(0px 1px 2px rgba(0, 0, 0, 0.3));\n",
              "      fill: #FFFFFF;\n",
              "    }\n",
              "  </style>\n",
              "\n",
              "    <script>\n",
              "      const buttonEl =\n",
              "        document.querySelector('#df-2765ae1e-661e-4eab-b329-c16378b1b4c0 button.colab-df-convert');\n",
              "      buttonEl.style.display =\n",
              "        google.colab.kernel.accessAllowed ? 'block' : 'none';\n",
              "\n",
              "      async function convertToInteractive(key) {\n",
              "        const element = document.querySelector('#df-2765ae1e-661e-4eab-b329-c16378b1b4c0');\n",
              "        const dataTable =\n",
              "          await google.colab.kernel.invokeFunction('convertToInteractive',\n",
              "                                                    [key], {});\n",
              "        if (!dataTable) return;\n",
              "\n",
              "        const docLinkHtml = 'Like what you see? Visit the ' +\n",
              "          '<a target=\"_blank\" href=https://colab.research.google.com/notebooks/data_table.ipynb>data table notebook</a>'\n",
              "          + ' to learn more about interactive tables.';\n",
              "        element.innerHTML = '';\n",
              "        dataTable['output_type'] = 'display_data';\n",
              "        await google.colab.output.renderOutput(dataTable, element);\n",
              "        const docLink = document.createElement('div');\n",
              "        docLink.innerHTML = docLinkHtml;\n",
              "        element.appendChild(docLink);\n",
              "      }\n",
              "    </script>\n",
              "  </div>\n",
              "\n",
              "\n",
              "<div id=\"df-cd80c8d6-3e07-454f-b6c2-0ae02e801359\">\n",
              "  <button class=\"colab-df-quickchart\" onclick=\"quickchart('df-cd80c8d6-3e07-454f-b6c2-0ae02e801359')\"\n",
              "            title=\"Suggest charts\"\n",
              "            style=\"display:none;\">\n",
              "\n",
              "<svg xmlns=\"http://www.w3.org/2000/svg\" height=\"24px\"viewBox=\"0 0 24 24\"\n",
              "     width=\"24px\">\n",
              "    <g>\n",
              "        <path d=\"M19 3H5c-1.1 0-2 .9-2 2v14c0 1.1.9 2 2 2h14c1.1 0 2-.9 2-2V5c0-1.1-.9-2-2-2zM9 17H7v-7h2v7zm4 0h-2V7h2v10zm4 0h-2v-4h2v4z\"/>\n",
              "    </g>\n",
              "</svg>\n",
              "  </button>\n",
              "\n",
              "<style>\n",
              "  .colab-df-quickchart {\n",
              "      --bg-color: #E8F0FE;\n",
              "      --fill-color: #1967D2;\n",
              "      --hover-bg-color: #E2EBFA;\n",
              "      --hover-fill-color: #174EA6;\n",
              "      --disabled-fill-color: #AAA;\n",
              "      --disabled-bg-color: #DDD;\n",
              "  }\n",
              "\n",
              "  [theme=dark] .colab-df-quickchart {\n",
              "      --bg-color: #3B4455;\n",
              "      --fill-color: #D2E3FC;\n",
              "      --hover-bg-color: #434B5C;\n",
              "      --hover-fill-color: #FFFFFF;\n",
              "      --disabled-bg-color: #3B4455;\n",
              "      --disabled-fill-color: #666;\n",
              "  }\n",
              "\n",
              "  .colab-df-quickchart {\n",
              "    background-color: var(--bg-color);\n",
              "    border: none;\n",
              "    border-radius: 50%;\n",
              "    cursor: pointer;\n",
              "    display: none;\n",
              "    fill: var(--fill-color);\n",
              "    height: 32px;\n",
              "    padding: 0;\n",
              "    width: 32px;\n",
              "  }\n",
              "\n",
              "  .colab-df-quickchart:hover {\n",
              "    background-color: var(--hover-bg-color);\n",
              "    box-shadow: 0 1px 2px rgba(60, 64, 67, 0.3), 0 1px 3px 1px rgba(60, 64, 67, 0.15);\n",
              "    fill: var(--button-hover-fill-color);\n",
              "  }\n",
              "\n",
              "  .colab-df-quickchart-complete:disabled,\n",
              "  .colab-df-quickchart-complete:disabled:hover {\n",
              "    background-color: var(--disabled-bg-color);\n",
              "    fill: var(--disabled-fill-color);\n",
              "    box-shadow: none;\n",
              "  }\n",
              "\n",
              "  .colab-df-spinner {\n",
              "    border: 2px solid var(--fill-color);\n",
              "    border-color: transparent;\n",
              "    border-bottom-color: var(--fill-color);\n",
              "    animation:\n",
              "      spin 1s steps(1) infinite;\n",
              "  }\n",
              "\n",
              "  @keyframes spin {\n",
              "    0% {\n",
              "      border-color: transparent;\n",
              "      border-bottom-color: var(--fill-color);\n",
              "      border-left-color: var(--fill-color);\n",
              "    }\n",
              "    20% {\n",
              "      border-color: transparent;\n",
              "      border-left-color: var(--fill-color);\n",
              "      border-top-color: var(--fill-color);\n",
              "    }\n",
              "    30% {\n",
              "      border-color: transparent;\n",
              "      border-left-color: var(--fill-color);\n",
              "      border-top-color: var(--fill-color);\n",
              "      border-right-color: var(--fill-color);\n",
              "    }\n",
              "    40% {\n",
              "      border-color: transparent;\n",
              "      border-right-color: var(--fill-color);\n",
              "      border-top-color: var(--fill-color);\n",
              "    }\n",
              "    60% {\n",
              "      border-color: transparent;\n",
              "      border-right-color: var(--fill-color);\n",
              "    }\n",
              "    80% {\n",
              "      border-color: transparent;\n",
              "      border-right-color: var(--fill-color);\n",
              "      border-bottom-color: var(--fill-color);\n",
              "    }\n",
              "    90% {\n",
              "      border-color: transparent;\n",
              "      border-bottom-color: var(--fill-color);\n",
              "    }\n",
              "  }\n",
              "</style>\n",
              "\n",
              "  <script>\n",
              "    async function quickchart(key) {\n",
              "      const quickchartButtonEl =\n",
              "        document.querySelector('#' + key + ' button');\n",
              "      quickchartButtonEl.disabled = true;  // To prevent multiple clicks.\n",
              "      quickchartButtonEl.classList.add('colab-df-spinner');\n",
              "      try {\n",
              "        const charts = await google.colab.kernel.invokeFunction(\n",
              "            'suggestCharts', [key], {});\n",
              "      } catch (error) {\n",
              "        console.error('Error during call to suggestCharts:', error);\n",
              "      }\n",
              "      quickchartButtonEl.classList.remove('colab-df-spinner');\n",
              "      quickchartButtonEl.classList.add('colab-df-quickchart-complete');\n",
              "    }\n",
              "    (() => {\n",
              "      let quickchartButtonEl =\n",
              "        document.querySelector('#df-cd80c8d6-3e07-454f-b6c2-0ae02e801359 button');\n",
              "      quickchartButtonEl.style.display =\n",
              "        google.colab.kernel.accessAllowed ? 'block' : 'none';\n",
              "    })();\n",
              "  </script>\n",
              "</div>\n",
              "\n",
              "  <div id=\"id_b63c6789-18b8-4244-ba2c-77dad51e9b57\">\n",
              "    <style>\n",
              "      .colab-df-generate {\n",
              "        background-color: #E8F0FE;\n",
              "        border: none;\n",
              "        border-radius: 50%;\n",
              "        cursor: pointer;\n",
              "        display: none;\n",
              "        fill: #1967D2;\n",
              "        height: 32px;\n",
              "        padding: 0 0 0 0;\n",
              "        width: 32px;\n",
              "      }\n",
              "\n",
              "      .colab-df-generate:hover {\n",
              "        background-color: #E2EBFA;\n",
              "        box-shadow: 0px 1px 2px rgba(60, 64, 67, 0.3), 0px 1px 3px 1px rgba(60, 64, 67, 0.15);\n",
              "        fill: #174EA6;\n",
              "      }\n",
              "\n",
              "      [theme=dark] .colab-df-generate {\n",
              "        background-color: #3B4455;\n",
              "        fill: #D2E3FC;\n",
              "      }\n",
              "\n",
              "      [theme=dark] .colab-df-generate:hover {\n",
              "        background-color: #434B5C;\n",
              "        box-shadow: 0px 1px 3px 1px rgba(0, 0, 0, 0.15);\n",
              "        filter: drop-shadow(0px 1px 2px rgba(0, 0, 0, 0.3));\n",
              "        fill: #FFFFFF;\n",
              "      }\n",
              "    </style>\n",
              "    <button class=\"colab-df-generate\" onclick=\"generateWithVariable('hemmorrhage_labels_df')\"\n",
              "            title=\"Generate code using this dataframe.\"\n",
              "            style=\"display:none;\">\n",
              "\n",
              "  <svg xmlns=\"http://www.w3.org/2000/svg\" height=\"24px\"viewBox=\"0 0 24 24\"\n",
              "       width=\"24px\">\n",
              "    <path d=\"M7,19H8.4L18.45,9,17,7.55,7,17.6ZM5,21V16.75L18.45,3.32a2,2,0,0,1,2.83,0l1.4,1.43a1.91,1.91,0,0,1,.58,1.4,1.91,1.91,0,0,1-.58,1.4L9.25,21ZM18.45,9,17,7.55Zm-12,3A5.31,5.31,0,0,0,4.9,8.1,5.31,5.31,0,0,0,1,6.5,5.31,5.31,0,0,0,4.9,4.9,5.31,5.31,0,0,0,6.5,1,5.31,5.31,0,0,0,8.1,4.9,5.31,5.31,0,0,0,12,6.5,5.46,5.46,0,0,0,6.5,12Z\"/>\n",
              "  </svg>\n",
              "    </button>\n",
              "    <script>\n",
              "      (() => {\n",
              "      const buttonEl =\n",
              "        document.querySelector('#id_b63c6789-18b8-4244-ba2c-77dad51e9b57 button.colab-df-generate');\n",
              "      buttonEl.style.display =\n",
              "        google.colab.kernel.accessAllowed ? 'block' : 'none';\n",
              "\n",
              "      buttonEl.onclick = () => {\n",
              "        google.colab.notebook.generateWithVariable('hemmorrhage_labels_df');\n",
              "      }\n",
              "      })();\n",
              "    </script>\n",
              "  </div>\n",
              "\n",
              "    </div>\n",
              "  </div>\n"
            ],
            "application/vnd.google.colaboratory.intrinsic+json": {
              "type": "dataframe",
              "variable_name": "hemmorrhage_labels_df"
            }
          },
          "metadata": {},
          "execution_count": 4
        }
      ]
    },
    {
      "cell_type": "code",
      "source": [
        "# Flagged data\n",
        "f = open(\"flagged.txt\", \"r\")\n",
        "flagged = [file.replace('\\n','') for file in f.readlines()]\n",
        "flagged += ['ID_6431af929.jpg']\n",
        "flagged"
      ],
      "metadata": {
        "colab": {
          "base_uri": "https://localhost:8080/"
        },
        "id": "r-jYc2aq6u31",
        "outputId": "411b628f-1a53-4c9c-ab22-dc09ad1f66d8"
      },
      "execution_count": 5,
      "outputs": [
        {
          "output_type": "execute_result",
          "data": {
            "text/plain": [
              "['ID_20440abc6.jpg',\n",
              " 'ID_1811d9bf2.jpg',\n",
              " 'ID_75a698178.jpg',\n",
              " 'ID_30010d605.jpg',\n",
              " 'ID_34b04fff9.jpg',\n",
              " 'ID_432bad415.jpg',\n",
              " 'ID_3cb85bfca.jpg',\n",
              " 'ID_4dad8b080.jpg',\n",
              " 'ID_6431af929.jpg']"
            ]
          },
          "metadata": {},
          "execution_count": 5
        }
      ]
    },
    {
      "cell_type": "code",
      "source": [
        "# Segmented Epidural Data\n",
        "epidural_results = pd.read_csv(\"Results_Epidural Hemorrhage Detection_2020-11-16_21.31.26.148.csv\")\n",
        "epidural_results = epidural_results[(epidural_results['Majority Label'].str.len() != 0) & (epidural_results['Correct Label'].notna())]\n",
        "segmented_epidural_images = epidural_results['Origin'].values\n",
        "\n",
        "epidural_dir = '/content/renders/renders/epidural/'\n",
        "epidural_max_contrast = []\n",
        "for dirname, _, filenames in os.walk(epidural_dir):\n",
        "    for filename in filenames:\n",
        "        if (filename in segmented_epidural_images) & (filename not in flagged):\n",
        "            epidural_max_contrast.append(os.path.join(dirname, filename))\n",
        "        if (len(epidural_max_contrast)==200):\n",
        "            break\n",
        "    else:\n",
        "        continue\n",
        "    break\n",
        "\n",
        "epidural_data = []\n",
        "epidural_label = []\n",
        "for path in epidural_max_contrast:\n",
        "    img = Image.open(path)\n",
        "    img = img.resize((300,300))\n",
        "    img = np.array(img)\n",
        "    base_filename = os.path.basename(path)\n",
        "    label = hemmorrhage_labels_df[hemmorrhage_labels_df['Image']==base_filename.replace('.jpg', '')]\n",
        "    if((img.shape == (300,300,3)) & (len(label)==1)):\n",
        "        epidural_data.append(np.array(img))\n",
        "        epidural_label.append(label.values.flatten().tolist()[2:])\n",
        "\n",
        "epidural_data = np.array(epidural_data)\n",
        "print(epidural_data.shape)\n",
        "epidural_label = np.array(epidural_label)\n",
        "print(epidural_label.shape)"
      ],
      "metadata": {
        "colab": {
          "base_uri": "https://localhost:8080/"
        },
        "id": "3EeGzSv07a4w",
        "outputId": "f5f1dc0b-184b-47e4-d5fe-65e2725fd4ba"
      },
      "execution_count": 6,
      "outputs": [
        {
          "output_type": "stream",
          "name": "stdout",
          "text": [
            "(200, 300, 300, 3)\n",
            "(200, 5)\n"
          ]
        }
      ]
    },
    {
      "cell_type": "code",
      "source": [
        "# Segmented Intraparenchymal Data\n",
        "intraparenchymal_results = pd.read_csv(\"Results_Intraparenchymal Hemorrhage Detection_2020-11-16_21.39.31.268.csv\")\n",
        "intraparenchymal_results = intraparenchymal_results[(intraparenchymal_results['Majority Label'].str.len() != 0) & (intraparenchymal_results['Correct Label'].notna())]\n",
        "segmented_intraparenchymal_images = intraparenchymal_results['Origin'].values\n",
        "\n",
        "intraparenchymal_dir = '/content/renders/renders/intraparenchymal/'\n",
        "\n",
        "intraparenchymal_max_constrast = []\n",
        "for dirname, _, filenames in os.walk(intraparenchymal_dir):\n",
        "    for filename in filenames:\n",
        "        if (filename in segmented_intraparenchymal_images) & (filename not in flagged):\n",
        "            intraparenchymal_max_constrast.append(os.path.join(dirname, filename))\n",
        "        if (len(intraparenchymal_max_constrast)==200):\n",
        "            break\n",
        "    else:\n",
        "        continue\n",
        "    break\n",
        "\n",
        "intraparenchymal_data = []\n",
        "intraparenchymal_label = []\n",
        "for path in intraparenchymal_max_constrast:\n",
        "    img = Image.open(path)\n",
        "    img = img.resize((300,300))\n",
        "    img = np.array(img)\n",
        "    base_filename = os.path.basename(path)\n",
        "    label = hemmorrhage_labels_df[hemmorrhage_labels_df['Image']==base_filename.replace('.jpg', '')]\n",
        "    if((img.shape == (300,300,3)) & (len(label)==1)):\n",
        "        intraparenchymal_data.append(np.array(img))\n",
        "        intraparenchymal_label.append(label.values.flatten().tolist()[2:])\n",
        "\n",
        "intraparenchymal_data = np.array(intraparenchymal_data)\n",
        "print(intraparenchymal_data.shape)\n",
        "intraparenchymal_label = np.array(intraparenchymal_label)\n",
        "print(intraparenchymal_label.shape)"
      ],
      "metadata": {
        "colab": {
          "base_uri": "https://localhost:8080/"
        },
        "id": "YlY0E9CY7a7S",
        "outputId": "04807e74-8327-434c-81b5-8d51cf66843c"
      },
      "execution_count": 7,
      "outputs": [
        {
          "output_type": "stream",
          "name": "stdout",
          "text": [
            "(200, 300, 300, 3)\n",
            "(200, 5)\n"
          ]
        }
      ]
    },
    {
      "cell_type": "code",
      "source": [
        "# Segmented Subarachnoid Data\n",
        "subarachnoid_results = pd.read_csv('Results_Subarachnoid Hemorrhage Detection_2020-11-16_21.36.18.668.csv')\n",
        "subarachnoid_results = subarachnoid_results[(subarachnoid_results['Majority Label'].str.len() != 0) & (subarachnoid_results['Correct Label'].notna())]\n",
        "segmented_subarachnoid_images = subarachnoid_results['Origin'].values\n",
        "subarachnoid_dir = '/content/renders/renders/subarachnoid/'\n",
        "subarachnoid_max_constrast = []\n",
        "for dirname, _, filenames in os.walk(subarachnoid_dir):\n",
        "    for filename in filenames:\n",
        "        if (filename in segmented_subarachnoid_images) & (filename not in flagged):\n",
        "            subarachnoid_max_constrast.append(os.path.join(dirname, filename))\n",
        "        if (len(subarachnoid_max_constrast)==200):\n",
        "            break\n",
        "    else:\n",
        "        continue\n",
        "    break\n",
        "\n",
        "subarachnoid_data = []\n",
        "subarachnoid_label = []\n",
        "for path in subarachnoid_max_constrast:\n",
        "    img = Image.open(path)\n",
        "    img = img.resize((300,300))\n",
        "    img = np.array(img)\n",
        "    base_filename = os.path.basename(path)\n",
        "    label = hemmorrhage_labels_df[hemmorrhage_labels_df['Image']==base_filename.replace('.jpg', '')]\n",
        "    if((img.shape == (300,300,3)) & (len(label)==1)):\n",
        "        subarachnoid_data.append(np.array(img))\n",
        "        subarachnoid_label.append(label.values.flatten().tolist()[2:])\n",
        "\n",
        "subarachnoid_data = np.array(subarachnoid_data)\n",
        "print(subarachnoid_data.shape)\n",
        "subarachnoid_label = np.array(subarachnoid_label)\n",
        "print(subarachnoid_label.shape)\n"
      ],
      "metadata": {
        "colab": {
          "base_uri": "https://localhost:8080/"
        },
        "id": "Z_Uwg5Iw7a9x",
        "outputId": "869adf78-c432-4292-c574-e6cea217a8ef"
      },
      "execution_count": 8,
      "outputs": [
        {
          "output_type": "stream",
          "name": "stdout",
          "text": [
            "(200, 300, 300, 3)\n",
            "(200, 5)\n"
          ]
        }
      ]
    },
    {
      "cell_type": "code",
      "source": [
        "# Segmented Subdural Data\n",
        "subdural_results = pd.read_csv(\"Results_Subdural Hemorrhage Detection_2020-11-16_21.35.48.040.csv\")\n",
        "subdural_results = subdural_results[(subdural_results['Majority Label'].str.len() != 0) & (subdural_results['Correct Label'].notna())]\n",
        "segmented_subdural_images = subdural_results['Origin'].values\n",
        "subdural_max_constrast = []\n",
        "subdural_dir = '/content/renders/renders/subdural/'\n",
        "for dirname, _, filenames in os.walk(subdural_dir):\n",
        "    for filename in filenames:\n",
        "        if (filename in segmented_subdural_images) & (filename not in flagged):\n",
        "            subdural_max_constrast.append(os.path.join(dirname, filename))\n",
        "        if (len(subdural_max_constrast)==200):\n",
        "            break\n",
        "    else:\n",
        "        continue\n",
        "    break\n",
        "\n",
        "subdural_data = []\n",
        "subdural_label = []\n",
        "for path in subdural_max_constrast:\n",
        "    img = Image.open(path)\n",
        "    img = img.resize((300,300))\n",
        "    img = np.array(img)\n",
        "    base_filename = os.path.basename(path)\n",
        "    label = hemmorrhage_labels_df[hemmorrhage_labels_df['Image']==base_filename.replace('.jpg', '')]\n",
        "    if((img.shape == (300,300,3)) & (len(label)==1)):\n",
        "        subdural_data.append(np.array(img))\n",
        "        subdural_label.append(label.values.flatten().tolist()[2:])\n",
        "\n",
        "subdural_data = np.array(subdural_data)\n",
        "print(subdural_data.shape)\n",
        "subdural_label = np.array(subdural_label)\n",
        "print(subdural_label.shape)"
      ],
      "metadata": {
        "colab": {
          "base_uri": "https://localhost:8080/"
        },
        "id": "uUvzu7eK7bAY",
        "outputId": "fdf4cb83-45f8-4e20-be6b-5a343acdb13c"
      },
      "execution_count": 9,
      "outputs": [
        {
          "output_type": "stream",
          "name": "stdout",
          "text": [
            "(200, 300, 300, 3)\n",
            "(200, 5)\n"
          ]
        }
      ]
    },
    {
      "cell_type": "code",
      "source": [
        "# Segmented Multiple Data\n",
        "multiple_results = pd.read_csv(\"Results_Multiple Hemorrhage Detection_2020-11-16_21.36.24.018.csv\")\n",
        "multiple_results = multiple_results[(multiple_results['Majority Label'].str.len() != 0) & (multiple_results['Correct Label'].notna())]\n",
        "segmented_multiple_images = multiple_results['Origin'].values\n",
        "multiple_dir = '/content/renders/renders/multi/'\n",
        "multiple_max_constrast = []\n",
        "for dirname, _, filenames in os.walk(multiple_dir):\n",
        "    for filename in filenames:\n",
        "        if (filename in segmented_multiple_images) & (filename not in flagged):\n",
        "            multiple_max_constrast.append(os.path.join(dirname, filename))\n",
        "        if (len(multiple_max_constrast)==200):\n",
        "            break\n",
        "    else:\n",
        "        continue\n",
        "    break\n",
        "\n",
        "multiple_data = []\n",
        "multiple_label = []\n",
        "for path in multiple_max_constrast:\n",
        "    img = Image.open(path)\n",
        "    img = img.resize((300,300))\n",
        "    img = np.array(img)\n",
        "    base_filename = os.path.basename(path)\n",
        "    label = hemmorrhage_labels_df[hemmorrhage_labels_df['Image']==base_filename.replace('.jpg', '')]\n",
        "    if((img.shape == (300,300,3)) & (len(label)==1)):\n",
        "        multiple_data.append(np.array(img))\n",
        "        multiple_label.append(label.values.flatten().tolist()[2:])\n",
        "\n",
        "multiple_data = np.array(multiple_data)\n",
        "print(multiple_data.shape)\n",
        "multiple_label = np.array(multiple_label)\n",
        "print(multiple_label.shape)"
      ],
      "metadata": {
        "colab": {
          "base_uri": "https://localhost:8080/"
        },
        "id": "7ch_uloaEPKq",
        "outputId": "2edd02cc-8cdc-48e8-f9fb-33e75ef361d2"
      },
      "execution_count": 10,
      "outputs": [
        {
          "output_type": "stream",
          "name": "stdout",
          "text": [
            "(200, 300, 300, 3)\n",
            "(200, 5)\n"
          ]
        }
      ]
    },
    {
      "cell_type": "code",
      "source": [
        "# Intraventricular Data\n",
        "intraventricular_dir = '/content/renders/renders/intraventricular/'\n",
        "intraventricular_max_constrast = []\n",
        "for dirname, _, filenames in os.walk(intraventricular_dir):\n",
        "    for filename in filenames:\n",
        "        if (filename not in flagged):\n",
        "            intraventricular_max_constrast.append(os.path.join(dirname, filename))\n",
        "        if (len(intraventricular_max_constrast)==200):\n",
        "            break\n",
        "    else:\n",
        "        continue\n",
        "    break\n",
        "\n",
        "\n",
        "intraventricular_data = []\n",
        "intraventricular_label = []\n",
        "for path in intraventricular_max_constrast:\n",
        "    img = Image.open(path)\n",
        "    img = img.resize((300,300))\n",
        "    img = np.array(img)\n",
        "    base_filename = os.path.basename(path)\n",
        "    label = hemmorrhage_labels_df[hemmorrhage_labels_df['Image']==base_filename.replace('.jpg', '')]\n",
        "    if((img.shape == (300,300,3)) & (len(label)==1)):\n",
        "        intraventricular_data.append(np.array(img))\n",
        "        intraventricular_label.append(label.values.flatten().tolist()[2:])\n",
        "\n",
        "intraventricular_data = np.array(intraventricular_data)\n",
        "print(intraventricular_data.shape)\n",
        "intraventricular_label = np.array(intraventricular_label)\n",
        "print(intraventricular_label.shape)\n"
      ],
      "metadata": {
        "colab": {
          "base_uri": "https://localhost:8080/"
        },
        "id": "hhKoNUaLEPP7",
        "outputId": "05379f54-2230-4f1a-91b5-92b7c49f2357"
      },
      "execution_count": 11,
      "outputs": [
        {
          "output_type": "stream",
          "name": "stdout",
          "text": [
            "(200, 300, 300, 3)\n",
            "(200, 5)\n"
          ]
        }
      ]
    },
    {
      "cell_type": "code",
      "source": [
        "# Normal Data\n",
        "normal_dir = '/content/renders/renders/normal/'\n",
        "normal_max_constrast = []\n",
        "for dirname, _, filenames in os.walk(normal_dir):\n",
        "    for filename in filenames:\n",
        "        if (filename not in flagged):\n",
        "            normal_max_constrast.append(os.path.join(dirname, filename))\n",
        "        if (len(normal_max_constrast)==200):\n",
        "            break\n",
        "    else:\n",
        "        continue\n",
        "    break\n",
        "\n",
        "\n",
        "normal_data = []\n",
        "normal_label = []\n",
        "for path in normal_max_constrast:\n",
        "    img = Image.open(path)\n",
        "    img = img.resize((300,300))\n",
        "    img = np.array(img)\n",
        "    if((img.shape == (300,300,3)) & (len(label)==1)):\n",
        "        normal_data.append(np.array(img))\n",
        "        normal_label.append([0,0,0,0,0])\n",
        "\n",
        "normal_data = np.array(normal_data)\n",
        "print(normal_data.shape)\n",
        "normal_label = np.array(normal_label)\n",
        "print(normal_label.shape)\n"
      ],
      "metadata": {
        "id": "hlKEh18PGthJ",
        "colab": {
          "base_uri": "https://localhost:8080/"
        },
        "outputId": "e7bd26f3-f7b7-4204-918f-73ee1d5588f9"
      },
      "execution_count": 12,
      "outputs": [
        {
          "output_type": "stream",
          "name": "stdout",
          "text": [
            "(200, 300, 300, 3)\n",
            "(200, 5)\n"
          ]
        }
      ]
    },
    {
      "cell_type": "markdown",
      "source": [
        "# Data Preprocessing"
      ],
      "metadata": {
        "id": "1xDluq-We8sr"
      }
    },
    {
      "cell_type": "code",
      "source": [
        "# Combine all the data\n",
        "all_data = np.vstack((epidural_data,intraparenchymal_data,subarachnoid_data,subdural_data,multiple_data,intraventricular_data,normal_data))\n",
        "all_label = np.vstack((epidural_label,intraparenchymal_label,subarachnoid_label,subdural_label,multiple_label,intraventricular_label,normal_label))\n",
        "print(all_data.shape)\n",
        "print(all_label.shape)"
      ],
      "metadata": {
        "colab": {
          "base_uri": "https://localhost:8080/"
        },
        "id": "RwhA5gJkGtjx",
        "outputId": "9ac9a72f-9c26-4d6e-e630-3bd9f59a390b"
      },
      "execution_count": 13,
      "outputs": [
        {
          "output_type": "stream",
          "name": "stdout",
          "text": [
            "(1400, 300, 300, 3)\n",
            "(1400, 5)\n"
          ]
        }
      ]
    },
    {
      "cell_type": "code",
      "source": [
        "# Shuffle the data\n",
        "shuffle_index = np.random.permutation(all_data.shape[0])\n",
        "X_data = all_data[shuffle_index]\n",
        "y_data = all_label[shuffle_index]"
      ],
      "metadata": {
        "id": "0c_zCnCtGtmH"
      },
      "execution_count": 14,
      "outputs": []
    },
    {
      "cell_type": "code",
      "source": [
        "# Split train, test, val\n",
        "[X_train, X_rest, y_train, y_rest] = train_test_split(X_data, y_data, test_size = 0.2, random_state=0)\n",
        "[X_val, X_test, y_val, y_test] = train_test_split(X_rest, y_rest, test_size=0.5, random_state=0)"
      ],
      "metadata": {
        "id": "1IXOxwIqEPSW"
      },
      "execution_count": 15,
      "outputs": []
    },
    {
      "cell_type": "code",
      "source": [
        "# Normalize the data\n",
        "X_train = X_train / 255.\n",
        "X_test = X_test / 255.\n",
        "X_val = X_val / 255."
      ],
      "metadata": {
        "id": "rIwiNBm7EPUh"
      },
      "execution_count": 16,
      "outputs": []
    },
    {
      "cell_type": "code",
      "source": [
        "## Add an extra dimension\n",
        "X_train = X_train.reshape(-1, 300, 300, 3)\n",
        "X_test = X_test.reshape(-1, 300, 300, 3)\n",
        "X_val = X_val.reshape(-1, 300, 300, 3)\n",
        "\n",
        "print(X_train.shape)\n",
        "print(y_train.shape)\n",
        "\n",
        "print(X_test.shape)\n",
        "print(y_test.shape)\n",
        "\n",
        "print(X_val.shape)\n",
        "print(y_val.shape)\n"
      ],
      "metadata": {
        "id": "AsiZ5OVb7bC6",
        "colab": {
          "base_uri": "https://localhost:8080/"
        },
        "outputId": "e5adcd15-c4ad-43e3-d721-dd7e9f3dd3f1"
      },
      "execution_count": 17,
      "outputs": [
        {
          "output_type": "stream",
          "name": "stdout",
          "text": [
            "(1120, 300, 300, 3)\n",
            "(1120, 5)\n",
            "(140, 300, 300, 3)\n",
            "(140, 5)\n",
            "(140, 300, 300, 3)\n",
            "(140, 5)\n"
          ]
        }
      ]
    },
    {
      "cell_type": "code",
      "source": [],
      "metadata": {
        "id": "i9NhISZv7bFx"
      },
      "execution_count": 17,
      "outputs": []
    },
    {
      "cell_type": "markdown",
      "source": [
        "# Deep NN Model"
      ],
      "metadata": {
        "id": "GFRWaywjfLo1"
      }
    },
    {
      "cell_type": "code",
      "source": [
        "keras.backend.clear_session()\n",
        "np.random.seed(42)\n",
        "tf.random.set_seed(42)"
      ],
      "metadata": {
        "id": "dsGqVcU97bIF"
      },
      "execution_count": 18,
      "outputs": []
    },
    {
      "cell_type": "code",
      "source": [
        "# Define the model\n",
        "dnn_model = keras.models.Sequential([\n",
        "    keras.layers.Flatten(input_shape=(300, 300, 3)),  # Flatten the input images\n",
        "    keras.layers.Dense(512, activation='relu'),       # First hidden layer with 512 neurons and ReLU activation\n",
        "    keras.layers.Dropout(0.3),                        # Dropout layer for regularization\n",
        "    keras.layers.Dense(256, activation='relu'),       # Second hidden layer with 256 neurons and ReLU activation\n",
        "    keras.layers.Dropout(0.3),                        # Another Dropout layer for regularization\n",
        "    keras.layers.Dense(128, activation='relu'),       # Third hidden layer with 128 neurons and ReLU activation\n",
        "    keras.layers.Dropout(0.3),                        # Additional Dropout layer\n",
        "    keras.layers.Dense(5, activation='softmax')       # Output layer with 5 units for each class\n",
        "])"
      ],
      "metadata": {
        "id": "5JgL5FdAlqa7"
      },
      "execution_count": 19,
      "outputs": []
    },
    {
      "cell_type": "code",
      "source": [
        "# Compile the model\n",
        "dnn_model.compile(optimizer='adam',\n",
        "                  loss='categorical_crossentropy',\n",
        "                  metrics=['accuracy'])\n"
      ],
      "metadata": {
        "id": "8u927HUClqdP"
      },
      "execution_count": 20,
      "outputs": []
    },
    {
      "cell_type": "code",
      "source": [
        "# Show the model summary\n",
        "print(dnn_model.summary())\n",
        "\n",
        "history_dnn = dnn_model.fit(X_train, y_train,\n",
        "                            epochs=10,\n",
        "                            batch_size=64,\n",
        "                            verbose=1,\n",
        "                            validation_data=(X_val, y_val))\n"
      ],
      "metadata": {
        "colab": {
          "base_uri": "https://localhost:8080/"
        },
        "id": "9AG2KEsjlqfV",
        "outputId": "9ae21efe-ffed-4b87-bdee-4598649b6d62"
      },
      "execution_count": 21,
      "outputs": [
        {
          "output_type": "stream",
          "name": "stdout",
          "text": [
            "Model: \"sequential\"\n",
            "_________________________________________________________________\n",
            " Layer (type)                Output Shape              Param #   \n",
            "=================================================================\n",
            " flatten (Flatten)           (None, 270000)            0         \n",
            "                                                                 \n",
            " dense (Dense)               (None, 512)               138240512 \n",
            "                                                                 \n",
            " dropout (Dropout)           (None, 512)               0         \n",
            "                                                                 \n",
            " dense_1 (Dense)             (None, 256)               131328    \n",
            "                                                                 \n",
            " dropout_1 (Dropout)         (None, 256)               0         \n",
            "                                                                 \n",
            " dense_2 (Dense)             (None, 128)               32896     \n",
            "                                                                 \n",
            " dropout_2 (Dropout)         (None, 128)               0         \n",
            "                                                                 \n",
            " dense_3 (Dense)             (None, 5)                 645       \n",
            "                                                                 \n",
            "=================================================================\n",
            "Total params: 138405381 (527.97 MB)\n",
            "Trainable params: 138405381 (527.97 MB)\n",
            "Non-trainable params: 0 (0.00 Byte)\n",
            "_________________________________________________________________\n",
            "None\n",
            "Epoch 1/10\n",
            "18/18 [==============================] - 70s 4s/step - loss: 30.7450 - accuracy: 0.2009 - val_loss: 3.5428 - val_accuracy: 0.1429\n",
            "Epoch 2/10\n",
            "18/18 [==============================] - 64s 4s/step - loss: 8.1309 - accuracy: 0.1982 - val_loss: 1.8962 - val_accuracy: 0.2500\n",
            "Epoch 3/10\n",
            "18/18 [==============================] - 64s 4s/step - loss: 2.5228 - accuracy: 0.2152 - val_loss: 1.7084 - val_accuracy: 0.1571\n",
            "Epoch 4/10\n",
            "18/18 [==============================] - 64s 4s/step - loss: 1.7021 - accuracy: 0.1777 - val_loss: 1.6952 - val_accuracy: 0.1857\n",
            "Epoch 5/10\n",
            "18/18 [==============================] - 66s 4s/step - loss: 1.6781 - accuracy: 0.1795 - val_loss: 1.6853 - val_accuracy: 0.1214\n",
            "Epoch 6/10\n",
            "18/18 [==============================] - 71s 4s/step - loss: 1.6760 - accuracy: 0.1813 - val_loss: 1.6849 - val_accuracy: 0.1286\n",
            "Epoch 7/10\n",
            "18/18 [==============================] - 65s 4s/step - loss: 1.6721 - accuracy: 0.1777 - val_loss: 1.6927 - val_accuracy: 0.1286\n",
            "Epoch 8/10\n",
            "18/18 [==============================] - 73s 4s/step - loss: 1.6699 - accuracy: 0.1821 - val_loss: 1.6895 - val_accuracy: 0.1214\n",
            "Epoch 9/10\n",
            "18/18 [==============================] - 64s 4s/step - loss: 1.6916 - accuracy: 0.1768 - val_loss: 1.6867 - val_accuracy: 0.1143\n",
            "Epoch 10/10\n",
            "18/18 [==============================] - 64s 4s/step - loss: 1.7509 - accuracy: 0.1777 - val_loss: 1.7178 - val_accuracy: 0.1143\n"
          ]
        }
      ]
    },
    {
      "cell_type": "code",
      "source": [
        "pd.DataFrame(history_dnn.history).plot(figsize=(8, 5))\n",
        "plt.grid(True)\n",
        "plt.gca().set_ylim(0, 1)\n",
        "\n",
        "plt.show()\n",
        "\n",
        "\n",
        "pd.DataFrame(history_dnn.history).plot(figsize=(8, 5))\n",
        "plt.grid(True)\n",
        "plt.gca().set_ylim(0, 1)\n",
        "\n",
        "plt.show()"
      ],
      "metadata": {
        "id": "LnUGsQ_46u6k",
        "colab": {
          "base_uri": "https://localhost:8080/",
          "height": 885
        },
        "outputId": "890c5776-4956-4090-c4da-b31a5e945f7c"
      },
      "execution_count": 22,
      "outputs": [
        {
          "output_type": "display_data",
          "data": {
            "text/plain": [
              "<Figure size 800x500 with 1 Axes>"
            ],
            "image/png": "[encoded data removed]"
          },
          "metadata": {}
        },
        {
          "output_type": "display_data",
          "data": {
            "text/plain": [
              "<Figure size 800x500 with 1 Axes>"
            ],
            "image/png": "[encoded data removed]"
          },
          "metadata": {}
        }
      ]
    }
  ]
}
