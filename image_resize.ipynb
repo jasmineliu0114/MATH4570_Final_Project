{
  "nbformat": 4,
  "nbformat_minor": 0,
  "metadata": {
    "colab": {
      "provenance": [],
      "gpuType": "V28"
    },
    "kernelspec": {
      "name": "python3",
      "display_name": "Python 3"
    },
    "language_info": {
      "name": "python"
    },
    "accelerator": "TPU"
  },
  "cells": [
    {
      "cell_type": "markdown",
      "source": [
        "# Loading data fron Kaggle"
      ],
      "metadata": {
        "id": "yZpnbzM0nL0C"
      }
    },
    {
      "cell_type": "markdown",
      "source": [],
      "metadata": {
        "id": "w0OMeMgbnF8t"
      }
    },
    {
      "cell_type": "code",
      "source": [
        "!pip install kaggle"
      ],
      "metadata": {
        "colab": {
          "base_uri": "https://localhost:8080/"
        },
        "id": "mN0l6TAZd_Pj",
        "outputId": "0aa3777f-945d-4832-f2ba-1e5949b737e3"
      },
      "execution_count": null,
      "outputs": [
        {
          "output_type": "stream",
          "name": "stdout",
          "text": [
            "Requirement already satisfied: kaggle in /usr/local/lib/python3.10/dist-packages (1.5.16)\n",
            "Requirement already satisfied: six>=1.10 in /usr/local/lib/python3.10/dist-packages (from kaggle) (1.16.0)\n",
            "Requirement already satisfied: certifi in /usr/local/lib/python3.10/dist-packages (from kaggle) (2024.2.2)\n",
            "Requirement already satisfied: python-dateutil in /usr/local/lib/python3.10/dist-packages (from kaggle) (2.8.2)\n",
            "Requirement already satisfied: requests in /usr/local/lib/python3.10/dist-packages (from kaggle) (2.31.0)\n",
            "Requirement already satisfied: tqdm in /usr/local/lib/python3.10/dist-packages (from kaggle) (4.66.2)\n",
            "Requirement already satisfied: python-slugify in /usr/local/lib/python3.10/dist-packages (from kaggle) (8.0.4)\n",
            "Requirement already satisfied: urllib3 in /usr/local/lib/python3.10/dist-packages (from kaggle) (2.0.7)\n",
            "Requirement already satisfied: bleach in /usr/local/lib/python3.10/dist-packages (from kaggle) (6.1.0)\n",
            "Requirement already satisfied: webencodings in /usr/local/lib/python3.10/dist-packages (from bleach->kaggle) (0.5.1)\n",
            "Requirement already satisfied: text-unidecode>=1.3 in /usr/local/lib/python3.10/dist-packages (from python-slugify->kaggle) (1.3)\n",
            "Requirement already satisfied: charset-normalizer<4,>=2 in /usr/local/lib/python3.10/dist-packages (from requests->kaggle) (3.3.2)\n",
            "Requirement already satisfied: idna<4,>=2.5 in /usr/local/lib/python3.10/dist-packages (from requests->kaggle) (3.6)\n"
          ]
        }
      ]
    },
    {
      "cell_type": "code",
      "source": [
        "from google.colab import files\n",
        "uploaded = files.upload()"
      ],
      "metadata": {
        "colab": {
          "base_uri": "https://localhost:8080/",
          "height": 74
        },
        "id": "ETxKs4KEj4zc",
        "outputId": "a7babaa6-9278-424f-c7cc-64fe463c7967"
      },
      "execution_count": null,
      "outputs": [
        {
          "output_type": "display_data",
          "data": {
            "text/plain": [
              "<IPython.core.display.HTML object>"
            ],
            "text/html": [
              "\n",
              "     <input type=\"file\" id=\"files-c494d408-3e00-4731-8e22-98f9217f1be1\" name=\"files[]\" multiple disabled\n",
              "        style=\"border:none\" />\n",
              "     <output id=\"result-c494d408-3e00-4731-8e22-98f9217f1be1\">\n",
              "      Upload widget is only available when the cell has been executed in the\n",
              "      current browser session. Please rerun this cell to enable.\n",
              "      </output>\n",
              "      <script>// Copyright 2017 Google LLC\n",
              "//\n",
              "// Licensed under the Apache License, Version 2.0 (the \"License\");\n",
              "// you may not use this file except in compliance with the License.\n",
              "// You may obtain a copy of the License at\n",
              "//\n",
              "//      http://www.apache.org/licenses/LICENSE-2.0\n",
              "//\n",
              "// Unless required by applicable law or agreed to in writing, software\n",
              "// distributed under the License is distributed on an \"AS IS\" BASIS,\n",
              "// WITHOUT WARRANTIES OR CONDITIONS OF ANY KIND, either express or implied.\n",
              "// See the License for the specific language governing permissions and\n",
              "// limitations under the License.\n",
              "\n",
              "/**\n",
              " * @fileoverview Helpers for google.colab Python module.\n",
              " */\n",
              "(function(scope) {\n",
              "function span(text, styleAttributes = {}) {\n",
              "  const element = document.createElement('span');\n",
              "  element.textContent = text;\n",
              "  for (const key of Object.keys(styleAttributes)) {\n",
              "    element.style[key] = styleAttributes[key];\n",
              "  }\n",
              "  return element;\n",
              "}\n",
              "\n",
              "// Max number of bytes which will be uploaded at a time.\n",
              "const MAX_PAYLOAD_SIZE = 100 * 1024;\n",
              "\n",
              "function _uploadFiles(inputId, outputId) {\n",
              "  const steps = uploadFilesStep(inputId, outputId);\n",
              "  const outputElement = document.getElementById(outputId);\n",
              "  // Cache steps on the outputElement to make it available for the next call\n",
              "  // to uploadFilesContinue from Python.\n",
              "  outputElement.steps = steps;\n",
              "\n",
              "  return _uploadFilesContinue(outputId);\n",
              "}\n",
              "\n",
              "// This is roughly an async generator (not supported in the browser yet),\n",
              "// where there are multiple asynchronous steps and the Python side is going\n",
              "// to poll for completion of each step.\n",
              "// This uses a Promise to block the python side on completion of each step,\n",
              "// then passes the result of the previous step as the input to the next step.\n",
              "function _uploadFilesContinue(outputId) {\n",
              "  const outputElement = document.getElementById(outputId);\n",
              "  const steps = outputElement.steps;\n",
              "\n",
              "  const next = steps.next(outputElement.lastPromiseValue);\n",
              "  return Promise.resolve(next.value.promise).then((value) => {\n",
              "    // Cache the last promise value to make it available to the next\n",
              "    // step of the generator.\n",
              "    outputElement.lastPromiseValue = value;\n",
              "    return next.value.response;\n",
              "  });\n",
              "}\n",
              "\n",
              "/**\n",
              " * Generator function which is called between each async step of the upload\n",
              " * process.\n",
              " * @param {string} inputId Element ID of the input file picker element.\n",
              " * @param {string} outputId Element ID of the output display.\n",
              " * @return {!Iterable<!Object>} Iterable of next steps.\n",
              " */\n",
              "function* uploadFilesStep(inputId, outputId) {\n",
              "  const inputElement = document.getElementById(inputId);\n",
              "  inputElement.disabled = false;\n",
              "\n",
              "  const outputElement = document.getElementById(outputId);\n",
              "  outputElement.innerHTML = '';\n",
              "\n",
              "  const pickedPromise = new Promise((resolve) => {\n",
              "    inputElement.addEventListener('change', (e) => {\n",
              "      resolve(e.target.files);\n",
              "    });\n",
              "  });\n",
              "\n",
              "  const cancel = document.createElement('button');\n",
              "  inputElement.parentElement.appendChild(cancel);\n",
              "  cancel.textContent = 'Cancel upload';\n",
              "  const cancelPromise = new Promise((resolve) => {\n",
              "    cancel.onclick = () => {\n",
              "      resolve(null);\n",
              "    };\n",
              "  });\n",
              "\n",
              "  // Wait for the user to pick the files.\n",
              "  const files = yield {\n",
              "    promise: Promise.race([pickedPromise, cancelPromise]),\n",
              "    response: {\n",
              "      action: 'starting',\n",
              "    }\n",
              "  };\n",
              "\n",
              "  cancel.remove();\n",
              "\n",
              "  // Disable the input element since further picks are not allowed.\n",
              "  inputElement.disabled = true;\n",
              "\n",
              "  if (!files) {\n",
              "    return {\n",
              "      response: {\n",
              "        action: 'complete',\n",
              "      }\n",
              "    };\n",
              "  }\n",
              "\n",
              "  for (const file of files) {\n",
              "    const li = document.createElement('li');\n",
              "    li.append(span(file.name, {fontWeight: 'bold'}));\n",
              "    li.append(span(\n",
              "        `(${file.type || 'n/a'}) - ${file.size} bytes, ` +\n",
              "        `last modified: ${\n",
              "            file.lastModifiedDate ? file.lastModifiedDate.toLocaleDateString() :\n",
              "                                    'n/a'} - `));\n",
              "    const percent = span('0% done');\n",
              "    li.appendChild(percent);\n",
              "\n",
              "    outputElement.appendChild(li);\n",
              "\n",
              "    const fileDataPromise = new Promise((resolve) => {\n",
              "      const reader = new FileReader();\n",
              "      reader.onload = (e) => {\n",
              "        resolve(e.target.result);\n",
              "      };\n",
              "      reader.readAsArrayBuffer(file);\n",
              "    });\n",
              "    // Wait for the data to be ready.\n",
              "    let fileData = yield {\n",
              "      promise: fileDataPromise,\n",
              "      response: {\n",
              "        action: 'continue',\n",
              "      }\n",
              "    };\n",
              "\n",
              "    // Use a chunked sending to avoid message size limits. See b/62115660.\n",
              "    let position = 0;\n",
              "    do {\n",
              "      const length = Math.min(fileData.byteLength - position, MAX_PAYLOAD_SIZE);\n",
              "      const chunk = new Uint8Array(fileData, position, length);\n",
              "      position += length;\n",
              "\n",
              "      const base64 = btoa(String.fromCharCode.apply(null, chunk));\n",
              "      yield {\n",
              "        response: {\n",
              "          action: 'append',\n",
              "          file: file.name,\n",
              "          data: base64,\n",
              "        },\n",
              "      };\n",
              "\n",
              "      let percentDone = fileData.byteLength === 0 ?\n",
              "          100 :\n",
              "          Math.round((position / fileData.byteLength) * 100);\n",
              "      percent.textContent = `${percentDone}% done`;\n",
              "\n",
              "    } while (position < fileData.byteLength);\n",
              "  }\n",
              "\n",
              "  // All done.\n",
              "  yield {\n",
              "    response: {\n",
              "      action: 'complete',\n",
              "    }\n",
              "  };\n",
              "}\n",
              "\n",
              "scope.google = scope.google || {};\n",
              "scope.google.colab = scope.google.colab || {};\n",
              "scope.google.colab._files = {\n",
              "  _uploadFiles,\n",
              "  _uploadFilesContinue,\n",
              "};\n",
              "})(self);\n",
              "</script> "
            ]
          },
          "metadata": {}
        },
        {
          "output_type": "stream",
          "name": "stdout",
          "text": [
            "Saving kaggle.json to kaggle.json\n"
          ]
        }
      ]
    },
    {
      "cell_type": "code",
      "source": [
        "# Ensure the Kaggle directory exists and set the permissions without trying to recreate it\n",
        "!mkdir -p ~/.kaggle  # The -p flag ensures that mkdir doesn't throw an error if the directory already exists\n",
        "!cp kaggle.json ~/.kaggle/\n",
        "!chmod 600 ~/.kaggle/kaggle.json\n"
      ],
      "metadata": {
        "id": "iddPHby5kvU0"
      },
      "execution_count": null,
      "outputs": []
    },
    {
      "cell_type": "code",
      "source": [
        "!kaggle datasets download -d yuerugong/project1-zeta-surgical"
      ],
      "metadata": {
        "colab": {
          "base_uri": "https://localhost:8080/"
        },
        "id": "lHii7i7Kkykk",
        "outputId": "c8fa04d2-aa7b-4c8c-fd26-0ea3106f6e5b"
      },
      "execution_count": null,
      "outputs": [
        {
          "output_type": "stream",
          "name": "stdout",
          "text": [
            "Downloading project1-zeta-surgical.zip to /content\n",
            "100% 9.43G/9.44G [02:02<00:00, 126MB/s]\n",
            "100% 9.44G/9.44G [02:02<00:00, 82.5MB/s]\n"
          ]
        }
      ]
    },
    {
      "cell_type": "code",
      "source": [
        "!unzip -q '/content/project1-zeta-surgical.zip' -d '/content/'"
      ],
      "metadata": {
        "id": "I2O0JT35ln_o"
      },
      "execution_count": null,
      "outputs": []
    },
    {
      "cell_type": "code",
      "source": [
        "!ls /content/renders/renders/multi/multi\n",
        "\n"
      ],
      "metadata": {
        "colab": {
          "base_uri": "https://localhost:8080/"
        },
        "id": "-1cBa5osqc24",
        "outputId": "e58bed5b-4b2d-4aad-ade6-4cebb6eb7158"
      },
      "execution_count": null,
      "outputs": [
        {
          "output_type": "stream",
          "name": "stdout",
          "text": [
            "brain_bone_window  brain_window  max_contrast_window  subdural_window\n"
          ]
        }
      ]
    },
    {
      "cell_type": "code",
      "source": [
        "!ls /content"
      ],
      "metadata": {
        "colab": {
          "base_uri": "https://localhost:8080/"
        },
        "id": "OT_mi5CV5fle",
        "outputId": "3144baf3-a1f3-41f3-e13d-b4abedf36b71"
      },
      "execution_count": null,
      "outputs": [
        {
          "output_type": "stream",
          "name": "stdout",
          "text": [
            " flagged.txt\n",
            " hemorrhage-labels.csv\n",
            " kaggle.json\n",
            " project1-zeta-surgical.zip\n",
            " renders\n",
            "'Results_Brain Hemorrhage Tracing_2020-09-28_15.21.52.597.csv'\n",
            "'Results_Epidural Hemorrhage Detection_2020-11-16_21.31.26.148.csv'\n",
            "'Results_Intraparenchymal Hemorrhage Detection_2020-11-16_21.39.31.268.csv'\n",
            "'Results_Multiple Hemorrhage Detection_2020-11-16_21.36.24.018.csv'\n",
            "'Results_Subarachnoid Hemorrhage Detection_2020-11-16_21.36.18.668.csv'\n",
            "'Results_Subdural Hemorrhage Detection_2020-11-16_21.35.48.040.csv'\n",
            "'Results_Subdural Hemorrhage Detection_2020-11-16_21.37.19.745.csv'\n",
            " sample_data\n",
            "'Segmentation Glossary (1).rtf'\n",
            "'Segmentation Glossary.rtf'\n"
          ]
        }
      ]
    },
    {
      "cell_type": "code",
      "source": [
        "!find /content -name 'project1-zeta-surgical.zip'\n"
      ],
      "metadata": {
        "colab": {
          "base_uri": "https://localhost:8080/"
        },
        "id": "WrXEVhcgrv8r",
        "outputId": "84b8b32e-7921-4f04-fe01-ad0f6f6ef904"
      },
      "execution_count": null,
      "outputs": [
        {
          "output_type": "stream",
          "name": "stdout",
          "text": [
            "/content/project1-zeta-surgical.zip\n"
          ]
        }
      ]
    },
    {
      "cell_type": "code",
      "source": [
        "import os\n",
        "import numpy as np\n",
        "import pandas as pd\n",
        "import matplotlib.pyplot as plt\n",
        "import matplotlib.patches as patches\n",
        "from PIL import Image\n",
        "import json\n",
        "from sklearn.model_selection import train_test_split\n",
        "from sklearn.linear_model import Perceptron\n",
        "import tensorflow as tf\n",
        "import keras\n",
        "import seaborn as sns\n",
        "from keras.models import Sequential\n",
        "from PIL import Image\n",
        "from keras.layers import Conv2D,Flatten,Dense,Dropout,BatchNormalization,MaxPooling2D\n",
        "#from sklearn.preprocessing import OneHotEncoder\n",
        "import matplotlib\n",
        "from sklearn.linear_model import LogisticRegression\n",
        "from sklearn import preprocessing\n",
        "from sklearn.metrics import confusion_matrix\n",
        "from keras.utils import to_categorical"
      ],
      "metadata": {
        "id": "teJnFKET6ZQq"
      },
      "execution_count": null,
      "outputs": []
    },
    {
      "cell_type": "code",
      "source": [
        "###################\n",
        "## LOAD THE DATA ##\n",
        "###################\n",
        "\n",
        "hemmorrhage_labels_df = pd.read_csv('hemorrhage-labels.csv')\n",
        "hemmorrhage_labels_df"
      ],
      "metadata": {
        "colab": {
          "base_uri": "https://localhost:8080/",
          "height": 424
        },
        "id": "SNGyWuSR6u1Q",
        "outputId": "192935a4-1875-444f-81ef-4bc930dd1f9b"
      },
      "execution_count": null,
      "outputs": [
        {
          "output_type": "execute_result",
          "data": {
            "text/plain": [
              "               Image  any  epidural  intraparenchymal  intraventricular  \\\n",
              "0       ID_000012eaf    0         0                 0                 0   \n",
              "1       ID_000039fa0    0         0                 0                 0   \n",
              "2       ID_00005679d    0         0                 0                 0   \n",
              "3       ID_00008ce3c    0         0                 0                 0   \n",
              "4       ID_0000950d7    0         0                 0                 0   \n",
              "...              ...  ...       ...               ...               ...   \n",
              "752798  ID_ffff82e46    0         0                 0                 0   \n",
              "752799  ID_ffff922b9    1         0                 0                 1   \n",
              "752800  ID_ffffb670a    1         0                 0                 0   \n",
              "752801  ID_ffffcbff8    0         0                 0                 0   \n",
              "752802  ID_fffff9393    0         0                 0                 0   \n",
              "\n",
              "        subarachnoid  subdural  \n",
              "0                  0         0  \n",
              "1                  0         0  \n",
              "2                  0         0  \n",
              "3                  0         0  \n",
              "4                  0         0  \n",
              "...              ...       ...  \n",
              "752798             0         0  \n",
              "752799             0         0  \n",
              "752800             1         0  \n",
              "752801             0         0  \n",
              "752802             0         0  \n",
              "\n",
              "[752803 rows x 7 columns]"
            ],
            "text/html": [
              "\n",
              "  <div id=\"df-16d57943-9229-480e-9f92-9ea81b103a55\" class=\"colab-df-container\">\n",
              "    <div>\n",
              "<style scoped>\n",
              "    .dataframe tbody tr th:only-of-type {\n",
              "        vertical-align: middle;\n",
              "    }\n",
              "\n",
              "    .dataframe tbody tr th {\n",
              "        vertical-align: top;\n",
              "    }\n",
              "\n",
              "    .dataframe thead th {\n",
              "        text-align: right;\n",
              "    }\n",
              "</style>\n",
              "<table border=\"1\" class=\"dataframe\">\n",
              "  <thead>\n",
              "    <tr style=\"text-align: right;\">\n",
              "      <th></th>\n",
              "      <th>Image</th>\n",
              "      <th>any</th>\n",
              "      <th>epidural</th>\n",
              "      <th>intraparenchymal</th>\n",
              "      <th>intraventricular</th>\n",
              "      <th>subarachnoid</th>\n",
              "      <th>subdural</th>\n",
              "    </tr>\n",
              "  </thead>\n",
              "  <tbody>\n",
              "    <tr>\n",
              "      <th>0</th>\n",
              "      <td>ID_000012eaf</td>\n",
              "      <td>0</td>\n",
              "      <td>0</td>\n",
              "      <td>0</td>\n",
              "      <td>0</td>\n",
              "      <td>0</td>\n",
              "      <td>0</td>\n",
              "    </tr>\n",
              "    <tr>\n",
              "      <th>1</th>\n",
              "      <td>ID_000039fa0</td>\n",
              "      <td>0</td>\n",
              "      <td>0</td>\n",
              "      <td>0</td>\n",
              "      <td>0</td>\n",
              "      <td>0</td>\n",
              "      <td>0</td>\n",
              "    </tr>\n",
              "    <tr>\n",
              "      <th>2</th>\n",
              "      <td>ID_00005679d</td>\n",
              "      <td>0</td>\n",
              "      <td>0</td>\n",
              "      <td>0</td>\n",
              "      <td>0</td>\n",
              "      <td>0</td>\n",
              "      <td>0</td>\n",
              "    </tr>\n",
              "    <tr>\n",
              "      <th>3</th>\n",
              "      <td>ID_00008ce3c</td>\n",
              "      <td>0</td>\n",
              "      <td>0</td>\n",
              "      <td>0</td>\n",
              "      <td>0</td>\n",
              "      <td>0</td>\n",
              "      <td>0</td>\n",
              "    </tr>\n",
              "    <tr>\n",
              "      <th>4</th>\n",
              "      <td>ID_0000950d7</td>\n",
              "      <td>0</td>\n",
              "      <td>0</td>\n",
              "      <td>0</td>\n",
              "      <td>0</td>\n",
              "      <td>0</td>\n",
              "      <td>0</td>\n",
              "    </tr>\n",
              "    <tr>\n",
              "      <th>...</th>\n",
              "      <td>...</td>\n",
              "      <td>...</td>\n",
              "      <td>...</td>\n",
              "      <td>...</td>\n",
              "      <td>...</td>\n",
              "      <td>...</td>\n",
              "      <td>...</td>\n",
              "    </tr>\n",
              "    <tr>\n",
              "      <th>752798</th>\n",
              "      <td>ID_ffff82e46</td>\n",
              "      <td>0</td>\n",
              "      <td>0</td>\n",
              "      <td>0</td>\n",
              "      <td>0</td>\n",
              "      <td>0</td>\n",
              "      <td>0</td>\n",
              "    </tr>\n",
              "    <tr>\n",
              "      <th>752799</th>\n",
              "      <td>ID_ffff922b9</td>\n",
              "      <td>1</td>\n",
              "      <td>0</td>\n",
              "      <td>0</td>\n",
              "      <td>1</td>\n",
              "      <td>0</td>\n",
              "      <td>0</td>\n",
              "    </tr>\n",
              "    <tr>\n",
              "      <th>752800</th>\n",
              "      <td>ID_ffffb670a</td>\n",
              "      <td>1</td>\n",
              "      <td>0</td>\n",
              "      <td>0</td>\n",
              "      <td>0</td>\n",
              "      <td>1</td>\n",
              "      <td>0</td>\n",
              "    </tr>\n",
              "    <tr>\n",
              "      <th>752801</th>\n",
              "      <td>ID_ffffcbff8</td>\n",
              "      <td>0</td>\n",
              "      <td>0</td>\n",
              "      <td>0</td>\n",
              "      <td>0</td>\n",
              "      <td>0</td>\n",
              "      <td>0</td>\n",
              "    </tr>\n",
              "    <tr>\n",
              "      <th>752802</th>\n",
              "      <td>ID_fffff9393</td>\n",
              "      <td>0</td>\n",
              "      <td>0</td>\n",
              "      <td>0</td>\n",
              "      <td>0</td>\n",
              "      <td>0</td>\n",
              "      <td>0</td>\n",
              "    </tr>\n",
              "  </tbody>\n",
              "</table>\n",
              "<p>752803 rows × 7 columns</p>\n",
              "</div>\n",
              "    <div class=\"colab-df-buttons\">\n",
              "\n",
              "  <div class=\"colab-df-container\">\n",
              "    <button class=\"colab-df-convert\" onclick=\"convertToInteractive('df-16d57943-9229-480e-9f92-9ea81b103a55')\"\n",
              "            title=\"Convert this dataframe to an interactive table.\"\n",
              "            style=\"display:none;\">\n",
              "\n",
              "  <svg xmlns=\"http://www.w3.org/2000/svg\" height=\"24px\" viewBox=\"0 -960 960 960\">\n",
              "    <path d=\"M120-120v-720h720v720H120Zm60-500h600v-160H180v160Zm220 220h160v-160H400v160Zm0 220h160v-160H400v160ZM180-400h160v-160H180v160Zm440 0h160v-160H620v160ZM180-180h160v-160H180v160Zm440 0h160v-160H620v160Z\"/>\n",
              "  </svg>\n",
              "    </button>\n",
              "\n",
              "  <style>\n",
              "    .colab-df-container {\n",
              "      display:flex;\n",
              "      gap: 12px;\n",
              "    }\n",
              "\n",
              "    .colab-df-convert {\n",
              "      background-color: #E8F0FE;\n",
              "      border: none;\n",
              "      border-radius: 50%;\n",
              "      cursor: pointer;\n",
              "      display: none;\n",
              "      fill: #1967D2;\n",
              "      height: 32px;\n",
              "      padding: 0 0 0 0;\n",
              "      width: 32px;\n",
              "    }\n",
              "\n",
              "    .colab-df-convert:hover {\n",
              "      background-color: #E2EBFA;\n",
              "      box-shadow: 0px 1px 2px rgba(60, 64, 67, 0.3), 0px 1px 3px 1px rgba(60, 64, 67, 0.15);\n",
              "      fill: #174EA6;\n",
              "    }\n",
              "\n",
              "    .colab-df-buttons div {\n",
              "      margin-bottom: 4px;\n",
              "    }\n",
              "\n",
              "    [theme=dark] .colab-df-convert {\n",
              "      background-color: #3B4455;\n",
              "      fill: #D2E3FC;\n",
              "    }\n",
              "\n",
              "    [theme=dark] .colab-df-convert:hover {\n",
              "      background-color: #434B5C;\n",
              "      box-shadow: 0px 1px 3px 1px rgba(0, 0, 0, 0.15);\n",
              "      filter: drop-shadow(0px 1px 2px rgba(0, 0, 0, 0.3));\n",
              "      fill: #FFFFFF;\n",
              "    }\n",
              "  </style>\n",
              "\n",
              "    <script>\n",
              "      const buttonEl =\n",
              "        document.querySelector('#df-16d57943-9229-480e-9f92-9ea81b103a55 button.colab-df-convert');\n",
              "      buttonEl.style.display =\n",
              "        google.colab.kernel.accessAllowed ? 'block' : 'none';\n",
              "\n",
              "      async function convertToInteractive(key) {\n",
              "        const element = document.querySelector('#df-16d57943-9229-480e-9f92-9ea81b103a55');\n",
              "        const dataTable =\n",
              "          await google.colab.kernel.invokeFunction('convertToInteractive',\n",
              "                                                    [key], {});\n",
              "        if (!dataTable) return;\n",
              "\n",
              "        const docLinkHtml = 'Like what you see? Visit the ' +\n",
              "          '<a target=\"_blank\" href=https://colab.research.google.com/notebooks/data_table.ipynb>data table notebook</a>'\n",
              "          + ' to learn more about interactive tables.';\n",
              "        element.innerHTML = '';\n",
              "        dataTable['output_type'] = 'display_data';\n",
              "        await google.colab.output.renderOutput(dataTable, element);\n",
              "        const docLink = document.createElement('div');\n",
              "        docLink.innerHTML = docLinkHtml;\n",
              "        element.appendChild(docLink);\n",
              "      }\n",
              "    </script>\n",
              "  </div>\n",
              "\n",
              "\n",
              "<div id=\"df-2a4595d1-c1d3-4c68-9254-54949ab105a4\">\n",
              "  <button class=\"colab-df-quickchart\" onclick=\"quickchart('df-2a4595d1-c1d3-4c68-9254-54949ab105a4')\"\n",
              "            title=\"Suggest charts\"\n",
              "            style=\"display:none;\">\n",
              "\n",
              "<svg xmlns=\"http://www.w3.org/2000/svg\" height=\"24px\"viewBox=\"0 0 24 24\"\n",
              "     width=\"24px\">\n",
              "    <g>\n",
              "        <path d=\"M19 3H5c-1.1 0-2 .9-2 2v14c0 1.1.9 2 2 2h14c1.1 0 2-.9 2-2V5c0-1.1-.9-2-2-2zM9 17H7v-7h2v7zm4 0h-2V7h2v10zm4 0h-2v-4h2v4z\"/>\n",
              "    </g>\n",
              "</svg>\n",
              "  </button>\n",
              "\n",
              "<style>\n",
              "  .colab-df-quickchart {\n",
              "      --bg-color: #E8F0FE;\n",
              "      --fill-color: #1967D2;\n",
              "      --hover-bg-color: #E2EBFA;\n",
              "      --hover-fill-color: #174EA6;\n",
              "      --disabled-fill-color: #AAA;\n",
              "      --disabled-bg-color: #DDD;\n",
              "  }\n",
              "\n",
              "  [theme=dark] .colab-df-quickchart {\n",
              "      --bg-color: #3B4455;\n",
              "      --fill-color: #D2E3FC;\n",
              "      --hover-bg-color: #434B5C;\n",
              "      --hover-fill-color: #FFFFFF;\n",
              "      --disabled-bg-color: #3B4455;\n",
              "      --disabled-fill-color: #666;\n",
              "  }\n",
              "\n",
              "  .colab-df-quickchart {\n",
              "    background-color: var(--bg-color);\n",
              "    border: none;\n",
              "    border-radius: 50%;\n",
              "    cursor: pointer;\n",
              "    display: none;\n",
              "    fill: var(--fill-color);\n",
              "    height: 32px;\n",
              "    padding: 0;\n",
              "    width: 32px;\n",
              "  }\n",
              "\n",
              "  .colab-df-quickchart:hover {\n",
              "    background-color: var(--hover-bg-color);\n",
              "    box-shadow: 0 1px 2px rgba(60, 64, 67, 0.3), 0 1px 3px 1px rgba(60, 64, 67, 0.15);\n",
              "    fill: var(--button-hover-fill-color);\n",
              "  }\n",
              "\n",
              "  .colab-df-quickchart-complete:disabled,\n",
              "  .colab-df-quickchart-complete:disabled:hover {\n",
              "    background-color: var(--disabled-bg-color);\n",
              "    fill: var(--disabled-fill-color);\n",
              "    box-shadow: none;\n",
              "  }\n",
              "\n",
              "  .colab-df-spinner {\n",
              "    border: 2px solid var(--fill-color);\n",
              "    border-color: transparent;\n",
              "    border-bottom-color: var(--fill-color);\n",
              "    animation:\n",
              "      spin 1s steps(1) infinite;\n",
              "  }\n",
              "\n",
              "  @keyframes spin {\n",
              "    0% {\n",
              "      border-color: transparent;\n",
              "      border-bottom-color: var(--fill-color);\n",
              "      border-left-color: var(--fill-color);\n",
              "    }\n",
              "    20% {\n",
              "      border-color: transparent;\n",
              "      border-left-color: var(--fill-color);\n",
              "      border-top-color: var(--fill-color);\n",
              "    }\n",
              "    30% {\n",
              "      border-color: transparent;\n",
              "      border-left-color: var(--fill-color);\n",
              "      border-top-color: var(--fill-color);\n",
              "      border-right-color: var(--fill-color);\n",
              "    }\n",
              "    40% {\n",
              "      border-color: transparent;\n",
              "      border-right-color: var(--fill-color);\n",
              "      border-top-color: var(--fill-color);\n",
              "    }\n",
              "    60% {\n",
              "      border-color: transparent;\n",
              "      border-right-color: var(--fill-color);\n",
              "    }\n",
              "    80% {\n",
              "      border-color: transparent;\n",
              "      border-right-color: var(--fill-color);\n",
              "      border-bottom-color: var(--fill-color);\n",
              "    }\n",
              "    90% {\n",
              "      border-color: transparent;\n",
              "      border-bottom-color: var(--fill-color);\n",
              "    }\n",
              "  }\n",
              "</style>\n",
              "\n",
              "  <script>\n",
              "    async function quickchart(key) {\n",
              "      const quickchartButtonEl =\n",
              "        document.querySelector('#' + key + ' button');\n",
              "      quickchartButtonEl.disabled = true;  // To prevent multiple clicks.\n",
              "      quickchartButtonEl.classList.add('colab-df-spinner');\n",
              "      try {\n",
              "        const charts = await google.colab.kernel.invokeFunction(\n",
              "            'suggestCharts', [key], {});\n",
              "      } catch (error) {\n",
              "        console.error('Error during call to suggestCharts:', error);\n",
              "      }\n",
              "      quickchartButtonEl.classList.remove('colab-df-spinner');\n",
              "      quickchartButtonEl.classList.add('colab-df-quickchart-complete');\n",
              "    }\n",
              "    (() => {\n",
              "      let quickchartButtonEl =\n",
              "        document.querySelector('#df-2a4595d1-c1d3-4c68-9254-54949ab105a4 button');\n",
              "      quickchartButtonEl.style.display =\n",
              "        google.colab.kernel.accessAllowed ? 'block' : 'none';\n",
              "    })();\n",
              "  </script>\n",
              "</div>\n",
              "\n",
              "  <div id=\"id_38cbe44b-b014-4560-8514-7f6d0b8a1c0f\">\n",
              "    <style>\n",
              "      .colab-df-generate {\n",
              "        background-color: #E8F0FE;\n",
              "        border: none;\n",
              "        border-radius: 50%;\n",
              "        cursor: pointer;\n",
              "        display: none;\n",
              "        fill: #1967D2;\n",
              "        height: 32px;\n",
              "        padding: 0 0 0 0;\n",
              "        width: 32px;\n",
              "      }\n",
              "\n",
              "      .colab-df-generate:hover {\n",
              "        background-color: #E2EBFA;\n",
              "        box-shadow: 0px 1px 2px rgba(60, 64, 67, 0.3), 0px 1px 3px 1px rgba(60, 64, 67, 0.15);\n",
              "        fill: #174EA6;\n",
              "      }\n",
              "\n",
              "      [theme=dark] .colab-df-generate {\n",
              "        background-color: #3B4455;\n",
              "        fill: #D2E3FC;\n",
              "      }\n",
              "\n",
              "      [theme=dark] .colab-df-generate:hover {\n",
              "        background-color: #434B5C;\n",
              "        box-shadow: 0px 1px 3px 1px rgba(0, 0, 0, 0.15);\n",
              "        filter: drop-shadow(0px 1px 2px rgba(0, 0, 0, 0.3));\n",
              "        fill: #FFFFFF;\n",
              "      }\n",
              "    </style>\n",
              "    <button class=\"colab-df-generate\" onclick=\"generateWithVariable('hemmorrhage_labels_df')\"\n",
              "            title=\"Generate code using this dataframe.\"\n",
              "            style=\"display:none;\">\n",
              "\n",
              "  <svg xmlns=\"http://www.w3.org/2000/svg\" height=\"24px\"viewBox=\"0 0 24 24\"\n",
              "       width=\"24px\">\n",
              "    <path d=\"M7,19H8.4L18.45,9,17,7.55,7,17.6ZM5,21V16.75L18.45,3.32a2,2,0,0,1,2.83,0l1.4,1.43a1.91,1.91,0,0,1,.58,1.4,1.91,1.91,0,0,1-.58,1.4L9.25,21ZM18.45,9,17,7.55Zm-12,3A5.31,5.31,0,0,0,4.9,8.1,5.31,5.31,0,0,0,1,6.5,5.31,5.31,0,0,0,4.9,4.9,5.31,5.31,0,0,0,6.5,1,5.31,5.31,0,0,0,8.1,4.9,5.31,5.31,0,0,0,12,6.5,5.46,5.46,0,0,0,6.5,12Z\"/>\n",
              "  </svg>\n",
              "    </button>\n",
              "    <script>\n",
              "      (() => {\n",
              "      const buttonEl =\n",
              "        document.querySelector('#id_38cbe44b-b014-4560-8514-7f6d0b8a1c0f button.colab-df-generate');\n",
              "      buttonEl.style.display =\n",
              "        google.colab.kernel.accessAllowed ? 'block' : 'none';\n",
              "\n",
              "      buttonEl.onclick = () => {\n",
              "        google.colab.notebook.generateWithVariable('hemmorrhage_labels_df');\n",
              "      }\n",
              "      })();\n",
              "    </script>\n",
              "  </div>\n",
              "\n",
              "    </div>\n",
              "  </div>\n"
            ],
            "application/vnd.google.colaboratory.intrinsic+json": {
              "type": "dataframe",
              "variable_name": "hemmorrhage_labels_df"
            }
          },
          "metadata": {},
          "execution_count": 9
        }
      ]
    },
    {
      "cell_type": "code",
      "source": [
        "# Flagged data\n",
        "f = open(\"flagged.txt\", \"r\")\n",
        "flagged = [file.replace('\\n','') for file in f.readlines()]\n",
        "flagged += ['ID_6431af929.jpg']\n",
        "flagged"
      ],
      "metadata": {
        "colab": {
          "base_uri": "https://localhost:8080/"
        },
        "id": "r-jYc2aq6u31",
        "outputId": "0b20c947-68a6-4022-c6aa-22b737b53d06"
      },
      "execution_count": null,
      "outputs": [
        {
          "output_type": "execute_result",
          "data": {
            "text/plain": [
              "['ID_20440abc6.jpg',\n",
              " 'ID_1811d9bf2.jpg',\n",
              " 'ID_75a698178.jpg',\n",
              " 'ID_30010d605.jpg',\n",
              " 'ID_34b04fff9.jpg',\n",
              " 'ID_432bad415.jpg',\n",
              " 'ID_3cb85bfca.jpg',\n",
              " 'ID_4dad8b080.jpg',\n",
              " 'ID_6431af929.jpg']"
            ]
          },
          "metadata": {},
          "execution_count": 10
        }
      ]
    },
    {
      "cell_type": "code",
      "source": [
        "# Segmented Epidural Data\n",
        "epidural_results = pd.read_csv(\"Results_Epidural Hemorrhage Detection_2020-11-16_21.31.26.148.csv\")\n",
        "epidural_results = epidural_results[(epidural_results['Majority Label'].str.len() != 0) & (epidural_results['Correct Label'].notna())]\n",
        "segmented_epidural_images = epidural_results['Origin'].values\n",
        "\n",
        "epidural_dir = '/content/renders/renders/epidural/'\n",
        "epidural_max_contrast = []\n",
        "for dirname, _, filenames in os.walk(epidural_dir):\n",
        "    for filename in filenames:\n",
        "        if (filename in segmented_epidural_images) & (filename not in flagged):\n",
        "            epidural_max_contrast.append(os.path.join(dirname, filename))\n",
        "        if (len(epidural_max_contrast)==200):\n",
        "            break\n",
        "    else:\n",
        "        continue\n",
        "    break\n",
        "\n",
        "epidural_data = []\n",
        "epidural_label = []\n",
        "for path in epidural_max_contrast:\n",
        "    img = Image.open(path)\n",
        "    img = img.resize((300,300))\n",
        "    img = np.array(img)\n",
        "    base_filename = os.path.basename(path)\n",
        "    label = hemmorrhage_labels_df[hemmorrhage_labels_df['Image']==base_filename.replace('.jpg', '')]\n",
        "    if((img.shape == (300,300,3)) & (len(label)==1)):\n",
        "        epidural_data.append(np.array(img))\n",
        "        epidural_label.append(label.values.flatten().tolist()[2:])\n",
        "\n",
        "epidural_data = np.array(epidural_data)\n",
        "print(epidural_data.shape)\n",
        "epidural_label = np.array(epidural_label)\n",
        "print(epidural_label.shape)"
      ],
      "metadata": {
        "colab": {
          "base_uri": "https://localhost:8080/"
        },
        "id": "3EeGzSv07a4w",
        "outputId": "4d6e7da7-1642-4644-fe23-83485f6f2d52"
      },
      "execution_count": null,
      "outputs": [
        {
          "output_type": "stream",
          "name": "stdout",
          "text": [
            "(200, 300, 300, 3)\n",
            "(200, 5)\n"
          ]
        }
      ]
    },
    {
      "cell_type": "code",
      "source": [
        "# Segmented Intraparenchymal Data\n",
        "intraparenchymal_results = pd.read_csv(\"Results_Intraparenchymal Hemorrhage Detection_2020-11-16_21.39.31.268.csv\")\n",
        "intraparenchymal_results = intraparenchymal_results[(intraparenchymal_results['Majority Label'].str.len() != 0) & (intraparenchymal_results['Correct Label'].notna())]\n",
        "segmented_intraparenchymal_images = intraparenchymal_results['Origin'].values\n",
        "\n",
        "intraparenchymal_dir = '/content/renders/renders/intraparenchymal/'\n",
        "\n",
        "intraparenchymal_max_constrast = []\n",
        "for dirname, _, filenames in os.walk(intraparenchymal_dir):\n",
        "    for filename in filenames:\n",
        "        if (filename in segmented_intraparenchymal_images) & (filename not in flagged):\n",
        "            intraparenchymal_max_constrast.append(os.path.join(dirname, filename))\n",
        "        if (len(intraparenchymal_max_constrast)==200):\n",
        "            break\n",
        "    else:\n",
        "        continue\n",
        "    break\n",
        "\n",
        "intraparenchymal_data = []\n",
        "intraparenchymal_label = []\n",
        "for path in intraparenchymal_max_constrast:\n",
        "    img = Image.open(path)\n",
        "    img = img.resize((300,300))\n",
        "    img = np.array(img)\n",
        "    base_filename = os.path.basename(path)\n",
        "    label = hemmorrhage_labels_df[hemmorrhage_labels_df['Image']==base_filename.replace('.jpg', '')]\n",
        "    if((img.shape == (300,300,3)) & (len(label)==1)):\n",
        "        intraparenchymal_data.append(np.array(img))\n",
        "        intraparenchymal_label.append(label.values.flatten().tolist()[2:])\n",
        "\n",
        "intraparenchymal_data = np.array(intraparenchymal_data)\n",
        "print(intraparenchymal_data.shape)\n",
        "intraparenchymal_label = np.array(intraparenchymal_label)\n",
        "print(intraparenchymal_label.shape)"
      ],
      "metadata": {
        "colab": {
          "base_uri": "https://localhost:8080/"
        },
        "id": "YlY0E9CY7a7S",
        "outputId": "4e12575b-8eb3-4a24-9799-fe6246c18c16"
      },
      "execution_count": null,
      "outputs": [
        {
          "output_type": "stream",
          "name": "stdout",
          "text": [
            "(200, 300, 300, 3)\n",
            "(200, 5)\n"
          ]
        }
      ]
    },
    {
      "cell_type": "code",
      "source": [
        "# Segmented Subarachnoid Data\n",
        "subarachnoid_results = pd.read_csv('Results_Subarachnoid Hemorrhage Detection_2020-11-16_21.36.18.668.csv')\n",
        "subarachnoid_results = subarachnoid_results[(subarachnoid_results['Majority Label'].str.len() != 0) & (subarachnoid_results['Correct Label'].notna())]\n",
        "segmented_subarachnoid_images = subarachnoid_results['Origin'].values\n",
        "subarachnoid_dir = '/content/renders/renders/subarachnoid/'\n",
        "subarachnoid_max_constrast = []\n",
        "for dirname, _, filenames in os.walk(subarachnoid_dir):\n",
        "    for filename in filenames:\n",
        "        if (filename in segmented_subarachnoid_images) & (filename not in flagged):\n",
        "            subarachnoid_max_constrast.append(os.path.join(dirname, filename))\n",
        "        if (len(subarachnoid_max_constrast)==200):\n",
        "            break\n",
        "    else:\n",
        "        continue\n",
        "    break\n",
        "\n",
        "subarachnoid_data = []\n",
        "subarachnoid_label = []\n",
        "for path in subarachnoid_max_constrast:\n",
        "    img = Image.open(path)\n",
        "    img = img.resize((300,300))\n",
        "    img = np.array(img)\n",
        "    base_filename = os.path.basename(path)\n",
        "    label = hemmorrhage_labels_df[hemmorrhage_labels_df['Image']==base_filename.replace('.jpg', '')]\n",
        "    if((img.shape == (300,300,3)) & (len(label)==1)):\n",
        "        subarachnoid_data.append(np.array(img))\n",
        "        subarachnoid_label.append(label.values.flatten().tolist()[2:])\n",
        "\n",
        "subarachnoid_data = np.array(subarachnoid_data)\n",
        "print(subarachnoid_data.shape)\n",
        "subarachnoid_label = np.array(subarachnoid_label)\n",
        "print(subarachnoid_label.shape)\n"
      ],
      "metadata": {
        "colab": {
          "base_uri": "https://localhost:8080/"
        },
        "id": "Z_Uwg5Iw7a9x",
        "outputId": "a624eb99-fcad-4a27-8b26-06b999b4ae60"
      },
      "execution_count": null,
      "outputs": [
        {
          "output_type": "stream",
          "name": "stdout",
          "text": [
            "(200, 300, 300, 3)\n",
            "(200, 5)\n"
          ]
        }
      ]
    },
    {
      "cell_type": "code",
      "source": [
        "# Segmented Subdural Data\n",
        "subdural_results = pd.read_csv(\"Results_Subdural Hemorrhage Detection_2020-11-16_21.35.48.040.csv\")\n",
        "subdural_results = subdural_results[(subdural_results['Majority Label'].str.len() != 0) & (subdural_results['Correct Label'].notna())]\n",
        "segmented_subdural_images = subdural_results['Origin'].values\n",
        "subdural_max_constrast = []\n",
        "subdural_dir = '/content/renders/renders/subdural/'\n",
        "for dirname, _, filenames in os.walk(subdural_dir):\n",
        "    for filename in filenames:\n",
        "        if (filename in segmented_subdural_images) & (filename not in flagged):\n",
        "            subdural_max_constrast.append(os.path.join(dirname, filename))\n",
        "        if (len(subdural_max_constrast)==200):\n",
        "            break\n",
        "    else:\n",
        "        continue\n",
        "    break\n",
        "\n",
        "subdural_data = []\n",
        "subdural_label = []\n",
        "for path in subdural_max_constrast:\n",
        "    img = Image.open(path)\n",
        "    img = img.resize((300,300))\n",
        "    img = np.array(img)\n",
        "    base_filename = os.path.basename(path)\n",
        "    label = hemmorrhage_labels_df[hemmorrhage_labels_df['Image']==base_filename.replace('.jpg', '')]\n",
        "    if((img.shape == (300,300,3)) & (len(label)==1)):\n",
        "        subdural_data.append(np.array(img))\n",
        "        subdural_label.append(label.values.flatten().tolist()[2:])\n",
        "\n",
        "subdural_data = np.array(subdural_data)\n",
        "print(subdural_data.shape)\n",
        "subdural_label = np.array(subdural_label)\n",
        "print(subdural_label.shape)"
      ],
      "metadata": {
        "colab": {
          "base_uri": "https://localhost:8080/"
        },
        "id": "uUvzu7eK7bAY",
        "outputId": "3eecb9cc-7044-4574-b176-1cb4817e82ce"
      },
      "execution_count": null,
      "outputs": [
        {
          "output_type": "stream",
          "name": "stdout",
          "text": [
            "(200, 300, 300, 3)\n",
            "(200, 5)\n"
          ]
        }
      ]
    },
    {
      "cell_type": "code",
      "source": [
        "# Segmented Multiple Data\n",
        "multiple_results = pd.read_csv(\"Results_Multiple Hemorrhage Detection_2020-11-16_21.36.24.018.csv\")\n",
        "multiple_results = multiple_results[(multiple_results['Majority Label'].str.len() != 0) & (multiple_results['Correct Label'].notna())]\n",
        "segmented_multiple_images = multiple_results['Origin'].values\n",
        "multiple_dir = '/content/renders/renders/multi/'\n",
        "multiple_max_constrast = []\n",
        "for dirname, _, filenames in os.walk(multiple_dir):\n",
        "    for filename in filenames:\n",
        "        if (filename in segmented_multiple_images) & (filename not in flagged):\n",
        "            multiple_max_constrast.append(os.path.join(dirname, filename))\n",
        "        if (len(multiple_max_constrast)==200):\n",
        "            break\n",
        "    else:\n",
        "        continue\n",
        "    break\n",
        "\n",
        "multiple_data = []\n",
        "multiple_label = []\n",
        "for path in multiple_max_constrast:\n",
        "    img = Image.open(path)\n",
        "    img = img.resize((300,300))\n",
        "    img = np.array(img)\n",
        "    base_filename = os.path.basename(path)\n",
        "    label = hemmorrhage_labels_df[hemmorrhage_labels_df['Image']==base_filename.replace('.jpg', '')]\n",
        "    if((img.shape == (300,300,3)) & (len(label)==1)):\n",
        "        multiple_data.append(np.array(img))\n",
        "        multiple_label.append(label.values.flatten().tolist()[2:])\n",
        "\n",
        "multiple_data = np.array(multiple_data)\n",
        "print(multiple_data.shape)\n",
        "multiple_label = np.array(multiple_label)\n",
        "print(multiple_label.shape)"
      ],
      "metadata": {
        "colab": {
          "base_uri": "https://localhost:8080/"
        },
        "id": "7ch_uloaEPKq",
        "outputId": "b6bcde88-1e75-4653-a13c-3c2ad712a8db"
      },
      "execution_count": null,
      "outputs": [
        {
          "output_type": "stream",
          "name": "stdout",
          "text": [
            "(200, 300, 300, 3)\n",
            "(200, 5)\n"
          ]
        }
      ]
    },
    {
      "cell_type": "code",
      "source": [
        "# Intraventricular Data\n",
        "intraventricular_dir = '/content/renders/renders/intraventricular/'\n",
        "intraventricular_max_constrast = []\n",
        "for dirname, _, filenames in os.walk(intraventricular_dir):\n",
        "    for filename in filenames:\n",
        "        if (filename not in flagged):\n",
        "            intraventricular_max_constrast.append(os.path.join(dirname, filename))\n",
        "        if (len(intraventricular_max_constrast)==200):\n",
        "            break\n",
        "    else:\n",
        "        continue\n",
        "    break\n",
        "\n",
        "\n",
        "intraventricular_data = []\n",
        "intraventricular_label = []\n",
        "for path in intraventricular_max_constrast:\n",
        "    img = Image.open(path)\n",
        "    img = img.resize((300,300))\n",
        "    img = np.array(img)\n",
        "    base_filename = os.path.basename(path)\n",
        "    label = hemmorrhage_labels_df[hemmorrhage_labels_df['Image']==base_filename.replace('.jpg', '')]\n",
        "    if((img.shape == (300,300,3)) & (len(label)==1)):\n",
        "        intraventricular_data.append(np.array(img))\n",
        "        intraventricular_label.append(label.values.flatten().tolist()[2:])\n",
        "\n",
        "intraventricular_data = np.array(intraventricular_data)\n",
        "print(intraventricular_data.shape)\n",
        "intraventricular_label = np.array(intraventricular_label)\n",
        "print(intraventricular_label.shape)\n"
      ],
      "metadata": {
        "colab": {
          "base_uri": "https://localhost:8080/"
        },
        "id": "hhKoNUaLEPP7",
        "outputId": "616270d3-d0ce-4fe0-9e07-799081715686"
      },
      "execution_count": null,
      "outputs": [
        {
          "output_type": "stream",
          "name": "stdout",
          "text": [
            "(200, 300, 300, 3)\n",
            "(200, 5)\n"
          ]
        }
      ]
    },
    {
      "cell_type": "code",
      "source": [
        "# Normal Data\n",
        "normal_dir = '/content/renders/renders/normal/'\n",
        "normal_max_constrast = []\n",
        "for dirname, _, filenames in os.walk(normal_dir):\n",
        "    for filename in filenames:\n",
        "        if (filename not in flagged):\n",
        "            normal_max_constrast.append(os.path.join(dirname, filename))\n",
        "        if (len(normal_max_constrast)==200):\n",
        "            break\n",
        "    else:\n",
        "        continue\n",
        "    break\n",
        "\n",
        "\n",
        "normal_data = []\n",
        "normal_label = []\n",
        "for path in normal_max_constrast:\n",
        "    img = Image.open(path)\n",
        "    img = img.resize((300,300))\n",
        "    img = np.array(img)\n",
        "    if((img.shape == (300,300,3)) & (len(label)==1)):\n",
        "        normal_data.append(np.array(img))\n",
        "        normal_label.append([0,0,0,0,0])\n",
        "\n",
        "normal_data = np.array(normal_data)\n",
        "print(normal_data.shape)\n",
        "normal_label = np.array(normal_label)\n",
        "print(normal_label.shape)\n"
      ],
      "metadata": {
        "id": "hlKEh18PGthJ",
        "colab": {
          "base_uri": "https://localhost:8080/"
        },
        "outputId": "15f4f141-9854-486c-e947-2076a13f3959"
      },
      "execution_count": null,
      "outputs": [
        {
          "output_type": "stream",
          "name": "stdout",
          "text": [
            "(200, 300, 300, 3)\n",
            "(200, 5)\n"
          ]
        }
      ]
    },
    {
      "cell_type": "code",
      "source": [
        "# Combine all the data\n",
        "all_data = np.vstack((epidural_data,intraparenchymal_data,subarachnoid_data,subdural_data,multiple_data,intraventricular_data,normal_data))\n",
        "all_label = np.vstack((epidural_label,intraparenchymal_label,subarachnoid_label,subdural_label,multiple_label,intraventricular_label,normal_label))\n",
        "print(all_data.shape)\n",
        "print(all_label.shape)"
      ],
      "metadata": {
        "colab": {
          "base_uri": "https://localhost:8080/"
        },
        "id": "RwhA5gJkGtjx",
        "outputId": "2c859524-7695-43a8-d8bc-044de0cb3572"
      },
      "execution_count": null,
      "outputs": [
        {
          "output_type": "stream",
          "name": "stdout",
          "text": [
            "(1400, 300, 300, 3)\n",
            "(1400, 5)\n"
          ]
        }
      ]
    },
    {
      "cell_type": "code",
      "source": [
        "# Shuffle the data\n",
        "shuffle_index = np.random.permutation(all_data.shape[0])\n",
        "X_data = all_data[shuffle_index]\n",
        "y_data = all_label[shuffle_index]"
      ],
      "metadata": {
        "id": "0c_zCnCtGtmH"
      },
      "execution_count": null,
      "outputs": []
    },
    {
      "cell_type": "code",
      "source": [
        "# Split train, test, val\n",
        "[X_train, X_rest, y_train, y_rest] = train_test_split(X_data, y_data, test_size = 0.2, random_state=0)\n",
        "[X_val, X_test, y_val, y_test] = train_test_split(X_rest, y_rest, test_size=0.5, random_state=0)"
      ],
      "metadata": {
        "id": "1IXOxwIqEPSW"
      },
      "execution_count": null,
      "outputs": []
    },
    {
      "cell_type": "code",
      "source": [
        "# Normalize the data\n",
        "X_train = X_train / 255.\n",
        "X_test = X_test / 255.\n",
        "X_val = X_val / 255."
      ],
      "metadata": {
        "id": "rIwiNBm7EPUh"
      },
      "execution_count": null,
      "outputs": []
    },
    {
      "cell_type": "code",
      "source": [
        "## Add an extra dimension\n",
        "X_train = X_train.reshape(-1, 300, 300, 3)\n",
        "X_test = X_test.reshape(-1, 300, 300, 3)\n",
        "X_val = X_val.reshape(-1, 300, 300, 3)\n",
        "\n",
        "print(X_train.shape)\n",
        "print(y_train.shape)\n",
        "\n",
        "print(X_test.shape)\n",
        "print(y_test.shape)\n",
        "\n",
        "print(X_val.shape)\n",
        "print(y_val.shape)\n"
      ],
      "metadata": {
        "id": "AsiZ5OVb7bC6",
        "colab": {
          "base_uri": "https://localhost:8080/"
        },
        "outputId": "4017359c-d4fb-4f6f-98f7-416ad029d5d8"
      },
      "execution_count": null,
      "outputs": [
        {
          "output_type": "stream",
          "name": "stdout",
          "text": [
            "(1120, 300, 300, 3)\n",
            "(1120, 5)\n",
            "(140, 300, 300, 3)\n",
            "(140, 5)\n",
            "(140, 300, 300, 3)\n",
            "(140, 5)\n"
          ]
        }
      ]
    },
    {
      "cell_type": "code",
      "source": [],
      "metadata": {
        "id": "i9NhISZv7bFx"
      },
      "execution_count": null,
      "outputs": []
    },
    {
      "cell_type": "code",
      "source": [
        "#####################\n",
        "## TRAIN THE MODEL ##\n",
        "#####################\n",
        "\n",
        "keras.backend.clear_session()\n",
        "np.random.seed(42)\n",
        "tf.random.set_seed(42)"
      ],
      "metadata": {
        "id": "NvLFcdf4OYyP"
      },
      "execution_count": null,
      "outputs": []
    },
    {
      "cell_type": "code",
      "source": [
        "# Define the model\n",
        "model = keras.models.Sequential()\n",
        "\n",
        "#model.add(InputLayer(input_shape=(300, 300, 3)))\n",
        "\n",
        "# 1st conv block\n",
        "model.add(Conv2D(25, (5, 5), activation='relu', strides=(1, 1), padding='same', input_shape=(300,300,3)))\n",
        "model.add(MaxPooling2D(pool_size=(2, 2), padding='same'))\n",
        "# 2nd conv block\n",
        "model.add(Conv2D(50, (5, 5), activation='relu', strides=(2, 2), padding='same'))\n",
        "model.add(MaxPooling2D(pool_size=(2, 2), padding='same'))\n",
        "model.add(BatchNormalization())\n",
        "# 3rd conv block\n",
        "model.add(Conv2D(70, (3, 3), activation='relu', strides=(2, 2), padding='same'))\n",
        "model.add(MaxPooling2D(pool_size=(2, 2), padding='valid'))\n",
        "model.add(BatchNormalization())\n",
        "# ANN block\n",
        "model.add(Flatten())\n",
        "model.add(Dense(units=100, activation='relu'))\n",
        "model.add(Dense(units=100, activation='relu'))\n",
        "model.add(Dropout(0.25))\n",
        "# output layer\n",
        "model.add(Dense(units=5, activation='softmax'))\n"
      ],
      "metadata": {
        "id": "cSetDWi5OY0z"
      },
      "execution_count": null,
      "outputs": []
    },
    {
      "cell_type": "code",
      "source": [
        "# compile model\n",
        "model.compile(loss='categorical_crossentropy', optimizer=\"adam\", metrics=['accuracy'])\n",
        "\n",
        "print(model.summary())"
      ],
      "metadata": {
        "id": "zsNyAeBiOY3b",
        "colab": {
          "base_uri": "https://localhost:8080/"
        },
        "outputId": "d52e3561-43d8-4b62-ee95-2dfa7b253405"
      },
      "execution_count": null,
      "outputs": [
        {
          "output_type": "stream",
          "name": "stdout",
          "text": [
            "Model: \"sequential\"\n",
            "_________________________________________________________________\n",
            " Layer (type)                Output Shape              Param #   \n",
            "=================================================================\n",
            " conv2d (Conv2D)             (None, 300, 300, 25)      1900      \n",
            "                                                                 \n",
            " max_pooling2d (MaxPooling2  (None, 150, 150, 25)      0         \n",
            " D)                                                              \n",
            "                                                                 \n",
            " conv2d_1 (Conv2D)           (None, 75, 75, 50)        31300     \n",
            "                                                                 \n",
            " max_pooling2d_1 (MaxPoolin  (None, 38, 38, 50)        0         \n",
            " g2D)                                                            \n",
            "                                                                 \n",
            " batch_normalization (Batch  (None, 38, 38, 50)        200       \n",
            " Normalization)                                                  \n",
            "                                                                 \n",
            " conv2d_2 (Conv2D)           (None, 19, 19, 70)        31570     \n",
            "                                                                 \n",
            " max_pooling2d_2 (MaxPoolin  (None, 9, 9, 70)          0         \n",
            " g2D)                                                            \n",
            "                                                                 \n",
            " batch_normalization_1 (Bat  (None, 9, 9, 70)          280       \n",
            " chNormalization)                                                \n",
            "                                                                 \n",
            " flatten (Flatten)           (None, 5670)              0         \n",
            "                                                                 \n",
            " dense (Dense)               (None, 100)               567100    \n",
            "                                                                 \n",
            " dense_1 (Dense)             (None, 100)               10100     \n",
            "                                                                 \n",
            " dropout (Dropout)           (None, 100)               0         \n",
            "                                                                 \n",
            " dense_2 (Dense)             (None, 5)                 505       \n",
            "                                                                 \n",
            "=================================================================\n",
            "Total params: 642955 (2.45 MB)\n",
            "Trainable params: 642715 (2.45 MB)\n",
            "Non-trainable params: 240 (960.00 Byte)\n",
            "_________________________________________________________________\n",
            "None\n"
          ]
        }
      ]
    },
    {
      "cell_type": "code",
      "source": [
        "# Train the model\n",
        "epochs = 30\n",
        "\n",
        "history = model.fit(X_train,\n",
        "                    y_train,\n",
        "                    epochs=epochs,\n",
        "                    #batch_size=300,\n",
        "                    verbose=1,\n",
        "                    validation_data=(X_test, y_test))"
      ],
      "metadata": {
        "id": "ObC6OGgFOY6E",
        "colab": {
          "base_uri": "https://localhost:8080/",
          "height": 936
        },
        "outputId": "6856cea6-3d63-4a1e-9c64-b35d34e8f5a3"
      },
      "execution_count": 36,
      "outputs": [
        {
          "output_type": "stream",
          "name": "stdout",
          "text": [
            "Epoch 1/30\n",
            "35/35 [==============================] - 27s 734ms/step - loss: 2.0075 - accuracy: 0.1884 - val_loss: 1.6541 - val_accuracy: 0.2286\n",
            "Epoch 2/30\n",
            "35/35 [==============================] - 25s 721ms/step - loss: 1.9602 - accuracy: 0.2125 - val_loss: 1.6654 - val_accuracy: 0.2429\n",
            "Epoch 3/30\n",
            "35/35 [==============================] - 25s 719ms/step - loss: 3.3308 - accuracy: 0.2134 - val_loss: 1.6802 - val_accuracy: 0.2071\n",
            "Epoch 4/30\n",
            "35/35 [==============================] - 25s 717ms/step - loss: 6.4800 - accuracy: 0.2134 - val_loss: 2.1377 - val_accuracy: 0.1857\n",
            "Epoch 5/30\n",
            "35/35 [==============================] - 25s 720ms/step - loss: 18.4126 - accuracy: 0.2411 - val_loss: 5.9815 - val_accuracy: 0.2429\n",
            "Epoch 6/30\n",
            "35/35 [==============================] - 25s 721ms/step - loss: 52.6647 - accuracy: 0.2018 - val_loss: 19.0549 - val_accuracy: 0.3214\n",
            "Epoch 7/30\n",
            "35/35 [==============================] - 25s 727ms/step - loss: 87.5510 - accuracy: 0.2223 - val_loss: 96.5520 - val_accuracy: 0.1786\n",
            "Epoch 8/30\n",
            "35/35 [==============================] - 25s 726ms/step - loss: 200.1521 - accuracy: 0.2000 - val_loss: 39.3440 - val_accuracy: 0.2500\n",
            "Epoch 9/30\n",
            "35/35 [==============================] - 25s 724ms/step - loss: 321.8582 - accuracy: 0.2054 - val_loss: 114.5968 - val_accuracy: 0.2357\n",
            "Epoch 10/30\n",
            "35/35 [==============================] - 25s 719ms/step - loss: 417.3067 - accuracy: 0.1902 - val_loss: 154.0306 - val_accuracy: 0.1929\n",
            "Epoch 11/30\n",
            "35/35 [==============================] - 25s 718ms/step - loss: 686.8050 - accuracy: 0.2125 - val_loss: 704.0546 - val_accuracy: 0.1643\n",
            "Epoch 12/30\n",
            "35/35 [==============================] - 25s 720ms/step - loss: 894.3886 - accuracy: 0.1893 - val_loss: 691.7286 - val_accuracy: 0.2000\n",
            "Epoch 13/30\n",
            "35/35 [==============================] - 25s 721ms/step - loss: 1208.7870 - accuracy: 0.2062 - val_loss: 1230.9576 - val_accuracy: 0.1714\n",
            "Epoch 14/30\n",
            "35/35 [==============================] - 25s 717ms/step - loss: 1484.0370 - accuracy: 0.1813 - val_loss: 611.4061 - val_accuracy: 0.1429\n",
            "Epoch 15/30\n",
            "35/35 [==============================] - 25s 717ms/step - loss: 1758.7068 - accuracy: 0.1893 - val_loss: 1875.5674 - val_accuracy: 0.1714\n",
            "Epoch 16/30\n",
            "31/35 [=========================>....] - ETA: 2s - loss: 2108.5081 - accuracy: 0.1895"
          ]
        },
        {
          "output_type": "error",
          "ename": "KeyboardInterrupt",
          "evalue": "",
          "traceback": [
            "\u001b[0;31m---------------------------------------------------------------------------\u001b[0m",
            "\u001b[0;31mKeyboardInterrupt\u001b[0m                         Traceback (most recent call last)",
            "\u001b[0;32m<ipython-input-36-c8e9125a0eb9>\u001b[0m in \u001b[0;36m<cell line: 4>\u001b[0;34m()\u001b[0m\n\u001b[1;32m      2\u001b[0m \u001b[0mepochs\u001b[0m \u001b[0;34m=\u001b[0m \u001b[0;36m30\u001b[0m\u001b[0;34m\u001b[0m\u001b[0;34m\u001b[0m\u001b[0m\n\u001b[1;32m      3\u001b[0m \u001b[0;34m\u001b[0m\u001b[0m\n\u001b[0;32m----> 4\u001b[0;31m history = model.fit(X_train, \n\u001b[0m\u001b[1;32m      5\u001b[0m                     \u001b[0my_train\u001b[0m\u001b[0;34m,\u001b[0m\u001b[0;34m\u001b[0m\u001b[0;34m\u001b[0m\u001b[0m\n\u001b[1;32m      6\u001b[0m                     \u001b[0mepochs\u001b[0m\u001b[0;34m=\u001b[0m\u001b[0mepochs\u001b[0m\u001b[0;34m,\u001b[0m\u001b[0;34m\u001b[0m\u001b[0;34m\u001b[0m\u001b[0m\n",
            "\u001b[0;32m/usr/local/lib/python3.10/dist-packages/keras/src/utils/traceback_utils.py\u001b[0m in \u001b[0;36merror_handler\u001b[0;34m(*args, **kwargs)\u001b[0m\n\u001b[1;32m     63\u001b[0m         \u001b[0mfiltered_tb\u001b[0m \u001b[0;34m=\u001b[0m \u001b[0;32mNone\u001b[0m\u001b[0;34m\u001b[0m\u001b[0;34m\u001b[0m\u001b[0m\n\u001b[1;32m     64\u001b[0m         \u001b[0;32mtry\u001b[0m\u001b[0;34m:\u001b[0m\u001b[0;34m\u001b[0m\u001b[0;34m\u001b[0m\u001b[0m\n\u001b[0;32m---> 65\u001b[0;31m             \u001b[0;32mreturn\u001b[0m \u001b[0mfn\u001b[0m\u001b[0;34m(\u001b[0m\u001b[0;34m*\u001b[0m\u001b[0margs\u001b[0m\u001b[0;34m,\u001b[0m \u001b[0;34m**\u001b[0m\u001b[0mkwargs\u001b[0m\u001b[0;34m)\u001b[0m\u001b[0;34m\u001b[0m\u001b[0;34m\u001b[0m\u001b[0m\n\u001b[0m\u001b[1;32m     66\u001b[0m         \u001b[0;32mexcept\u001b[0m \u001b[0mException\u001b[0m \u001b[0;32mas\u001b[0m \u001b[0me\u001b[0m\u001b[0;34m:\u001b[0m\u001b[0;34m\u001b[0m\u001b[0;34m\u001b[0m\u001b[0m\n\u001b[1;32m     67\u001b[0m             \u001b[0mfiltered_tb\u001b[0m \u001b[0;34m=\u001b[0m \u001b[0m_process_traceback_frames\u001b[0m\u001b[0;34m(\u001b[0m\u001b[0me\u001b[0m\u001b[0;34m.\u001b[0m\u001b[0m__traceback__\u001b[0m\u001b[0;34m)\u001b[0m\u001b[0;34m\u001b[0m\u001b[0;34m\u001b[0m\u001b[0m\n",
            "\u001b[0;32m/usr/local/lib/python3.10/dist-packages/keras/src/engine/training.py\u001b[0m in \u001b[0;36mfit\u001b[0;34m(self, x, y, batch_size, epochs, verbose, callbacks, validation_split, validation_data, shuffle, class_weight, sample_weight, initial_epoch, steps_per_epoch, validation_steps, validation_batch_size, validation_freq, max_queue_size, workers, use_multiprocessing)\u001b[0m\n\u001b[1;32m   1805\u001b[0m                         ):\n\u001b[1;32m   1806\u001b[0m                             \u001b[0mcallbacks\u001b[0m\u001b[0;34m.\u001b[0m\u001b[0mon_train_batch_begin\u001b[0m\u001b[0;34m(\u001b[0m\u001b[0mstep\u001b[0m\u001b[0;34m)\u001b[0m\u001b[0;34m\u001b[0m\u001b[0;34m\u001b[0m\u001b[0m\n\u001b[0;32m-> 1807\u001b[0;31m                             \u001b[0mtmp_logs\u001b[0m \u001b[0;34m=\u001b[0m \u001b[0mself\u001b[0m\u001b[0;34m.\u001b[0m\u001b[0mtrain_function\u001b[0m\u001b[0;34m(\u001b[0m\u001b[0miterator\u001b[0m\u001b[0;34m)\u001b[0m\u001b[0;34m\u001b[0m\u001b[0;34m\u001b[0m\u001b[0m\n\u001b[0m\u001b[1;32m   1808\u001b[0m                             \u001b[0;32mif\u001b[0m \u001b[0mdata_handler\u001b[0m\u001b[0;34m.\u001b[0m\u001b[0mshould_sync\u001b[0m\u001b[0;34m:\u001b[0m\u001b[0;34m\u001b[0m\u001b[0;34m\u001b[0m\u001b[0m\n\u001b[1;32m   1809\u001b[0m                                 \u001b[0mcontext\u001b[0m\u001b[0;34m.\u001b[0m\u001b[0masync_wait\u001b[0m\u001b[0;34m(\u001b[0m\u001b[0;34m)\u001b[0m\u001b[0;34m\u001b[0m\u001b[0;34m\u001b[0m\u001b[0m\n",
            "\u001b[0;32m/usr/local/lib/python3.10/dist-packages/tensorflow/python/util/traceback_utils.py\u001b[0m in \u001b[0;36merror_handler\u001b[0;34m(*args, **kwargs)\u001b[0m\n\u001b[1;32m    148\u001b[0m     \u001b[0mfiltered_tb\u001b[0m \u001b[0;34m=\u001b[0m \u001b[0;32mNone\u001b[0m\u001b[0;34m\u001b[0m\u001b[0;34m\u001b[0m\u001b[0m\n\u001b[1;32m    149\u001b[0m     \u001b[0;32mtry\u001b[0m\u001b[0;34m:\u001b[0m\u001b[0;34m\u001b[0m\u001b[0;34m\u001b[0m\u001b[0m\n\u001b[0;32m--> 150\u001b[0;31m       \u001b[0;32mreturn\u001b[0m \u001b[0mfn\u001b[0m\u001b[0;34m(\u001b[0m\u001b[0;34m*\u001b[0m\u001b[0margs\u001b[0m\u001b[0;34m,\u001b[0m \u001b[0;34m**\u001b[0m\u001b[0mkwargs\u001b[0m\u001b[0;34m)\u001b[0m\u001b[0;34m\u001b[0m\u001b[0;34m\u001b[0m\u001b[0m\n\u001b[0m\u001b[1;32m    151\u001b[0m     \u001b[0;32mexcept\u001b[0m \u001b[0mException\u001b[0m \u001b[0;32mas\u001b[0m \u001b[0me\u001b[0m\u001b[0;34m:\u001b[0m\u001b[0;34m\u001b[0m\u001b[0;34m\u001b[0m\u001b[0m\n\u001b[1;32m    152\u001b[0m       \u001b[0mfiltered_tb\u001b[0m \u001b[0;34m=\u001b[0m \u001b[0m_process_traceback_frames\u001b[0m\u001b[0;34m(\u001b[0m\u001b[0me\u001b[0m\u001b[0;34m.\u001b[0m\u001b[0m__traceback__\u001b[0m\u001b[0;34m)\u001b[0m\u001b[0;34m\u001b[0m\u001b[0;34m\u001b[0m\u001b[0m\n",
            "\u001b[0;32m/usr/local/lib/python3.10/dist-packages/tensorflow/python/eager/polymorphic_function/polymorphic_function.py\u001b[0m in \u001b[0;36m__call__\u001b[0;34m(self, *args, **kwds)\u001b[0m\n\u001b[1;32m    830\u001b[0m \u001b[0;34m\u001b[0m\u001b[0m\n\u001b[1;32m    831\u001b[0m       \u001b[0;32mwith\u001b[0m \u001b[0mOptionalXlaContext\u001b[0m\u001b[0;34m(\u001b[0m\u001b[0mself\u001b[0m\u001b[0;34m.\u001b[0m\u001b[0m_jit_compile\u001b[0m\u001b[0;34m)\u001b[0m\u001b[0;34m:\u001b[0m\u001b[0;34m\u001b[0m\u001b[0;34m\u001b[0m\u001b[0m\n\u001b[0;32m--> 832\u001b[0;31m         \u001b[0mresult\u001b[0m \u001b[0;34m=\u001b[0m \u001b[0mself\u001b[0m\u001b[0;34m.\u001b[0m\u001b[0m_call\u001b[0m\u001b[0;34m(\u001b[0m\u001b[0;34m*\u001b[0m\u001b[0margs\u001b[0m\u001b[0;34m,\u001b[0m \u001b[0;34m**\u001b[0m\u001b[0mkwds\u001b[0m\u001b[0;34m)\u001b[0m\u001b[0;34m\u001b[0m\u001b[0;34m\u001b[0m\u001b[0m\n\u001b[0m\u001b[1;32m    833\u001b[0m \u001b[0;34m\u001b[0m\u001b[0m\n\u001b[1;32m    834\u001b[0m       \u001b[0mnew_tracing_count\u001b[0m \u001b[0;34m=\u001b[0m \u001b[0mself\u001b[0m\u001b[0;34m.\u001b[0m\u001b[0mexperimental_get_tracing_count\u001b[0m\u001b[0;34m(\u001b[0m\u001b[0;34m)\u001b[0m\u001b[0;34m\u001b[0m\u001b[0;34m\u001b[0m\u001b[0m\n",
            "\u001b[0;32m/usr/local/lib/python3.10/dist-packages/tensorflow/python/eager/polymorphic_function/polymorphic_function.py\u001b[0m in \u001b[0;36m_call\u001b[0;34m(self, *args, **kwds)\u001b[0m\n\u001b[1;32m    866\u001b[0m       \u001b[0;31m# In this case we have created variables on the first call, so we run the\u001b[0m\u001b[0;34m\u001b[0m\u001b[0;34m\u001b[0m\u001b[0m\n\u001b[1;32m    867\u001b[0m       \u001b[0;31m# defunned version which is guaranteed to never create variables.\u001b[0m\u001b[0;34m\u001b[0m\u001b[0;34m\u001b[0m\u001b[0m\n\u001b[0;32m--> 868\u001b[0;31m       return tracing_compilation.call_function(\n\u001b[0m\u001b[1;32m    869\u001b[0m           \u001b[0margs\u001b[0m\u001b[0;34m,\u001b[0m \u001b[0mkwds\u001b[0m\u001b[0;34m,\u001b[0m \u001b[0mself\u001b[0m\u001b[0;34m.\u001b[0m\u001b[0m_no_variable_creation_config\u001b[0m\u001b[0;34m\u001b[0m\u001b[0;34m\u001b[0m\u001b[0m\n\u001b[1;32m    870\u001b[0m       )\n",
            "\u001b[0;32m/usr/local/lib/python3.10/dist-packages/tensorflow/python/eager/polymorphic_function/tracing_compilation.py\u001b[0m in \u001b[0;36mcall_function\u001b[0;34m(args, kwargs, tracing_options)\u001b[0m\n\u001b[1;32m    137\u001b[0m   \u001b[0mbound_args\u001b[0m \u001b[0;34m=\u001b[0m \u001b[0mfunction\u001b[0m\u001b[0;34m.\u001b[0m\u001b[0mfunction_type\u001b[0m\u001b[0;34m.\u001b[0m\u001b[0mbind\u001b[0m\u001b[0;34m(\u001b[0m\u001b[0;34m*\u001b[0m\u001b[0margs\u001b[0m\u001b[0;34m,\u001b[0m \u001b[0;34m**\u001b[0m\u001b[0mkwargs\u001b[0m\u001b[0;34m)\u001b[0m\u001b[0;34m\u001b[0m\u001b[0;34m\u001b[0m\u001b[0m\n\u001b[1;32m    138\u001b[0m   \u001b[0mflat_inputs\u001b[0m \u001b[0;34m=\u001b[0m \u001b[0mfunction\u001b[0m\u001b[0;34m.\u001b[0m\u001b[0mfunction_type\u001b[0m\u001b[0;34m.\u001b[0m\u001b[0munpack_inputs\u001b[0m\u001b[0;34m(\u001b[0m\u001b[0mbound_args\u001b[0m\u001b[0;34m)\u001b[0m\u001b[0;34m\u001b[0m\u001b[0;34m\u001b[0m\u001b[0m\n\u001b[0;32m--> 139\u001b[0;31m   return function._call_flat(  # pylint: disable=protected-access\n\u001b[0m\u001b[1;32m    140\u001b[0m       \u001b[0mflat_inputs\u001b[0m\u001b[0;34m,\u001b[0m \u001b[0mcaptured_inputs\u001b[0m\u001b[0;34m=\u001b[0m\u001b[0mfunction\u001b[0m\u001b[0;34m.\u001b[0m\u001b[0mcaptured_inputs\u001b[0m\u001b[0;34m\u001b[0m\u001b[0;34m\u001b[0m\u001b[0m\n\u001b[1;32m    141\u001b[0m   )\n",
            "\u001b[0;32m/usr/local/lib/python3.10/dist-packages/tensorflow/python/eager/polymorphic_function/concrete_function.py\u001b[0m in \u001b[0;36m_call_flat\u001b[0;34m(self, tensor_inputs, captured_inputs)\u001b[0m\n\u001b[1;32m   1321\u001b[0m         and executing_eagerly):\n\u001b[1;32m   1322\u001b[0m       \u001b[0;31m# No tape is watching; skip to running the function.\u001b[0m\u001b[0;34m\u001b[0m\u001b[0;34m\u001b[0m\u001b[0m\n\u001b[0;32m-> 1323\u001b[0;31m       \u001b[0;32mreturn\u001b[0m \u001b[0mself\u001b[0m\u001b[0;34m.\u001b[0m\u001b[0m_inference_function\u001b[0m\u001b[0;34m.\u001b[0m\u001b[0mcall_preflattened\u001b[0m\u001b[0;34m(\u001b[0m\u001b[0margs\u001b[0m\u001b[0;34m)\u001b[0m\u001b[0;34m\u001b[0m\u001b[0;34m\u001b[0m\u001b[0m\n\u001b[0m\u001b[1;32m   1324\u001b[0m     forward_backward = self._select_forward_and_backward_functions(\n\u001b[1;32m   1325\u001b[0m         \u001b[0margs\u001b[0m\u001b[0;34m,\u001b[0m\u001b[0;34m\u001b[0m\u001b[0;34m\u001b[0m\u001b[0m\n",
            "\u001b[0;32m/usr/local/lib/python3.10/dist-packages/tensorflow/python/eager/polymorphic_function/atomic_function.py\u001b[0m in \u001b[0;36mcall_preflattened\u001b[0;34m(self, args)\u001b[0m\n\u001b[1;32m    214\u001b[0m   \u001b[0;32mdef\u001b[0m \u001b[0mcall_preflattened\u001b[0m\u001b[0;34m(\u001b[0m\u001b[0mself\u001b[0m\u001b[0;34m,\u001b[0m \u001b[0margs\u001b[0m\u001b[0;34m:\u001b[0m \u001b[0mSequence\u001b[0m\u001b[0;34m[\u001b[0m\u001b[0mcore\u001b[0m\u001b[0;34m.\u001b[0m\u001b[0mTensor\u001b[0m\u001b[0;34m]\u001b[0m\u001b[0;34m)\u001b[0m \u001b[0;34m->\u001b[0m \u001b[0mAny\u001b[0m\u001b[0;34m:\u001b[0m\u001b[0;34m\u001b[0m\u001b[0;34m\u001b[0m\u001b[0m\n\u001b[1;32m    215\u001b[0m     \u001b[0;34m\"\"\"Calls with flattened tensor inputs and returns the structured output.\"\"\"\u001b[0m\u001b[0;34m\u001b[0m\u001b[0;34m\u001b[0m\u001b[0m\n\u001b[0;32m--> 216\u001b[0;31m     \u001b[0mflat_outputs\u001b[0m \u001b[0;34m=\u001b[0m \u001b[0mself\u001b[0m\u001b[0;34m.\u001b[0m\u001b[0mcall_flat\u001b[0m\u001b[0;34m(\u001b[0m\u001b[0;34m*\u001b[0m\u001b[0margs\u001b[0m\u001b[0;34m)\u001b[0m\u001b[0;34m\u001b[0m\u001b[0;34m\u001b[0m\u001b[0m\n\u001b[0m\u001b[1;32m    217\u001b[0m     \u001b[0;32mreturn\u001b[0m \u001b[0mself\u001b[0m\u001b[0;34m.\u001b[0m\u001b[0mfunction_type\u001b[0m\u001b[0;34m.\u001b[0m\u001b[0mpack_output\u001b[0m\u001b[0;34m(\u001b[0m\u001b[0mflat_outputs\u001b[0m\u001b[0;34m)\u001b[0m\u001b[0;34m\u001b[0m\u001b[0;34m\u001b[0m\u001b[0m\n\u001b[1;32m    218\u001b[0m \u001b[0;34m\u001b[0m\u001b[0m\n",
            "\u001b[0;32m/usr/local/lib/python3.10/dist-packages/tensorflow/python/eager/polymorphic_function/atomic_function.py\u001b[0m in \u001b[0;36mcall_flat\u001b[0;34m(self, *args)\u001b[0m\n\u001b[1;32m    249\u001b[0m         \u001b[0;32mwith\u001b[0m \u001b[0mrecord\u001b[0m\u001b[0;34m.\u001b[0m\u001b[0mstop_recording\u001b[0m\u001b[0;34m(\u001b[0m\u001b[0;34m)\u001b[0m\u001b[0;34m:\u001b[0m\u001b[0;34m\u001b[0m\u001b[0;34m\u001b[0m\u001b[0m\n\u001b[1;32m    250\u001b[0m           \u001b[0;32mif\u001b[0m \u001b[0mself\u001b[0m\u001b[0;34m.\u001b[0m\u001b[0m_bound_context\u001b[0m\u001b[0;34m.\u001b[0m\u001b[0mexecuting_eagerly\u001b[0m\u001b[0;34m(\u001b[0m\u001b[0;34m)\u001b[0m\u001b[0;34m:\u001b[0m\u001b[0;34m\u001b[0m\u001b[0;34m\u001b[0m\u001b[0m\n\u001b[0;32m--> 251\u001b[0;31m             outputs = self._bound_context.call_function(\n\u001b[0m\u001b[1;32m    252\u001b[0m                 \u001b[0mself\u001b[0m\u001b[0;34m.\u001b[0m\u001b[0mname\u001b[0m\u001b[0;34m,\u001b[0m\u001b[0;34m\u001b[0m\u001b[0;34m\u001b[0m\u001b[0m\n\u001b[1;32m    253\u001b[0m                 \u001b[0mlist\u001b[0m\u001b[0;34m(\u001b[0m\u001b[0margs\u001b[0m\u001b[0;34m)\u001b[0m\u001b[0;34m,\u001b[0m\u001b[0;34m\u001b[0m\u001b[0;34m\u001b[0m\u001b[0m\n",
            "\u001b[0;32m/usr/local/lib/python3.10/dist-packages/tensorflow/python/eager/context.py\u001b[0m in \u001b[0;36mcall_function\u001b[0;34m(self, name, tensor_inputs, num_outputs)\u001b[0m\n\u001b[1;32m   1484\u001b[0m     \u001b[0mcancellation_context\u001b[0m \u001b[0;34m=\u001b[0m \u001b[0mcancellation\u001b[0m\u001b[0;34m.\u001b[0m\u001b[0mcontext\u001b[0m\u001b[0;34m(\u001b[0m\u001b[0;34m)\u001b[0m\u001b[0;34m\u001b[0m\u001b[0;34m\u001b[0m\u001b[0m\n\u001b[1;32m   1485\u001b[0m     \u001b[0;32mif\u001b[0m \u001b[0mcancellation_context\u001b[0m \u001b[0;32mis\u001b[0m \u001b[0;32mNone\u001b[0m\u001b[0;34m:\u001b[0m\u001b[0;34m\u001b[0m\u001b[0;34m\u001b[0m\u001b[0m\n\u001b[0;32m-> 1486\u001b[0;31m       outputs = execute.execute(\n\u001b[0m\u001b[1;32m   1487\u001b[0m           \u001b[0mname\u001b[0m\u001b[0;34m.\u001b[0m\u001b[0mdecode\u001b[0m\u001b[0;34m(\u001b[0m\u001b[0;34m\"utf-8\"\u001b[0m\u001b[0;34m)\u001b[0m\u001b[0;34m,\u001b[0m\u001b[0;34m\u001b[0m\u001b[0;34m\u001b[0m\u001b[0m\n\u001b[1;32m   1488\u001b[0m           \u001b[0mnum_outputs\u001b[0m\u001b[0;34m=\u001b[0m\u001b[0mnum_outputs\u001b[0m\u001b[0;34m,\u001b[0m\u001b[0;34m\u001b[0m\u001b[0;34m\u001b[0m\u001b[0m\n",
            "\u001b[0;32m/usr/local/lib/python3.10/dist-packages/tensorflow/python/eager/execute.py\u001b[0m in \u001b[0;36mquick_execute\u001b[0;34m(op_name, num_outputs, inputs, attrs, ctx, name)\u001b[0m\n\u001b[1;32m     51\u001b[0m   \u001b[0;32mtry\u001b[0m\u001b[0;34m:\u001b[0m\u001b[0;34m\u001b[0m\u001b[0;34m\u001b[0m\u001b[0m\n\u001b[1;32m     52\u001b[0m     \u001b[0mctx\u001b[0m\u001b[0;34m.\u001b[0m\u001b[0mensure_initialized\u001b[0m\u001b[0;34m(\u001b[0m\u001b[0;34m)\u001b[0m\u001b[0;34m\u001b[0m\u001b[0;34m\u001b[0m\u001b[0m\n\u001b[0;32m---> 53\u001b[0;31m     tensors = pywrap_tfe.TFE_Py_Execute(ctx._handle, device_name, op_name,\n\u001b[0m\u001b[1;32m     54\u001b[0m                                         inputs, attrs, num_outputs)\n\u001b[1;32m     55\u001b[0m   \u001b[0;32mexcept\u001b[0m \u001b[0mcore\u001b[0m\u001b[0;34m.\u001b[0m\u001b[0m_NotOkStatusException\u001b[0m \u001b[0;32mas\u001b[0m \u001b[0me\u001b[0m\u001b[0;34m:\u001b[0m\u001b[0;34m\u001b[0m\u001b[0;34m\u001b[0m\u001b[0m\n",
            "\u001b[0;31mKeyboardInterrupt\u001b[0m: "
          ]
        }
      ]
    },
    {
      "cell_type": "code",
      "source": [],
      "metadata": {
        "id": "oL7JePH-OY8H"
      },
      "execution_count": null,
      "outputs": []
    },
    {
      "cell_type": "code",
      "source": [
        "#############################\n",
        "## TRAIN THE DEEP NN MODEL ##\n",
        "#############################\n",
        "\n",
        "keras.backend.clear_session()\n",
        "np.random.seed(42)\n",
        "tf.random.set_seed(42)\n",
        "\n",
        "# Define the model\n",
        "dnn_model = keras.models.Sequential([\n",
        "    keras.layers.Flatten(input_shape=(300, 300, 3)),  # Flatten the input images\n",
        "    keras.layers.Dense(512, activation='relu'),       # First hidden layer with 512 neurons and ReLU activation\n",
        "    keras.layers.Dropout(0.3),                        # Dropout layer for regularization\n",
        "    keras.layers.Dense(256, activation='relu'),       # Second hidden layer with 256 neurons and ReLU activation\n",
        "    keras.layers.Dropout(0.3),                        # Another Dropout layer for regularization\n",
        "    keras.layers.Dense(128, activation='relu'),       # Third hidden layer with 128 neurons and ReLU activation\n",
        "    keras.layers.Dropout(0.3),                        # Additional Dropout layer\n",
        "    keras.layers.Dense(5, activation='softmax')       # Output layer with 5 units for each class\n",
        "])\n",
        "\n",
        "# Compile the model\n",
        "dnn_model.compile(optimizer='adam',\n",
        "                  loss='categorical_crossentropy',\n",
        "                  metrics=['accuracy'])\n",
        "\n",
        "# Show the model summary\n",
        "print(dnn_model.summary())\n",
        "\n",
        "history_dnn = dnn_model.fit(X_train, y_train,\n",
        "                            epochs=30,\n",
        "                            batch_size=64,\n",
        "                            verbose=1,\n",
        "                            validation_data=(X_val, y_val))\n",
        "\n",
        "#stochastic gradient decent\n",
        "historysgd = model.fit(X_train, y_train, epochs=30,\n",
        "                    validation_data=(X_val, y_val))\n"
      ],
      "metadata": {
        "id": "dsGqVcU97bIF",
        "colab": {
          "base_uri": "https://localhost:8080/",
          "height": 1000
        },
        "outputId": "826f4b70-4e4b-4a00-869d-da80b74be0f3"
      },
      "execution_count": 38,
      "outputs": [
        {
          "output_type": "stream",
          "name": "stdout",
          "text": [
            "Model: \"sequential\"\n",
            "_________________________________________________________________\n",
            " Layer (type)                Output Shape              Param #   \n",
            "=================================================================\n",
            " flatten (Flatten)           (None, 270000)            0         \n",
            "                                                                 \n",
            " dense (Dense)               (None, 512)               138240512 \n",
            "                                                                 \n",
            " dropout (Dropout)           (None, 512)               0         \n",
            "                                                                 \n",
            " dense_1 (Dense)             (None, 256)               131328    \n",
            "                                                                 \n",
            " dropout_1 (Dropout)         (None, 256)               0         \n",
            "                                                                 \n",
            " dense_2 (Dense)             (None, 128)               32896     \n",
            "                                                                 \n",
            " dropout_2 (Dropout)         (None, 128)               0         \n",
            "                                                                 \n",
            " dense_3 (Dense)             (None, 5)                 645       \n",
            "                                                                 \n",
            "=================================================================\n",
            "Total params: 138405381 (527.97 MB)\n",
            "Trainable params: 138405381 (527.97 MB)\n",
            "Non-trainable params: 0 (0.00 Byte)\n",
            "_________________________________________________________________\n",
            "None\n",
            "Epoch 1/10\n",
            "18/18 [==============================] - 11s 538ms/step - loss: 25.5415 - accuracy: 0.1964 - val_loss: 2.8883 - val_accuracy: 0.1714\n",
            "Epoch 2/10\n",
            "18/18 [==============================] - 9s 516ms/step - loss: 7.5284 - accuracy: 0.1920 - val_loss: 2.1606 - val_accuracy: 0.1786\n",
            "Epoch 3/10\n",
            "18/18 [==============================] - 9s 521ms/step - loss: 3.5159 - accuracy: 0.2089 - val_loss: 1.6801 - val_accuracy: 0.2500\n",
            "Epoch 4/10\n",
            "18/18 [==============================] - 9s 522ms/step - loss: 2.1766 - accuracy: 0.1875 - val_loss: 1.6924 - val_accuracy: 0.2429\n",
            "Epoch 5/10\n",
            "18/18 [==============================] - 9s 522ms/step - loss: 2.4496 - accuracy: 0.1973 - val_loss: 1.8182 - val_accuracy: 0.1214\n",
            "Epoch 6/10\n",
            "18/18 [==============================] - 10s 531ms/step - loss: 3.1320 - accuracy: 0.1839 - val_loss: 1.8620 - val_accuracy: 0.2286\n",
            "Epoch 7/10\n",
            "18/18 [==============================] - 10s 536ms/step - loss: 7.5090 - accuracy: 0.1875 - val_loss: 2.0941 - val_accuracy: 0.2571\n",
            "Epoch 8/10\n",
            "18/18 [==============================] - 10s 541ms/step - loss: 10.2491 - accuracy: 0.2125 - val_loss: 7.3212 - val_accuracy: 0.1143\n",
            "Epoch 9/10\n",
            "18/18 [==============================] - 10s 545ms/step - loss: 13.7981 - accuracy: 0.1955 - val_loss: 17.3060 - val_accuracy: 0.2857\n",
            "Epoch 10/10\n",
            "18/18 [==============================] - 10s 541ms/step - loss: 30.4824 - accuracy: 0.1964 - val_loss: 52.9452 - val_accuracy: 0.1357\n",
            "Epoch 1/30\n",
            "35/35 [==============================] - 25s 711ms/step - loss: 2297.5420 - accuracy: 0.1982 - val_loss: 2265.6099 - val_accuracy: 0.1786\n",
            "Epoch 2/30\n",
            "35/35 [==============================] - 25s 712ms/step - loss: 2700.7549 - accuracy: 0.2143 - val_loss: 3715.2231 - val_accuracy: 0.3214\n",
            "Epoch 3/30\n",
            "35/35 [==============================] - 25s 714ms/step - loss: 2736.8494 - accuracy: 0.1804 - val_loss: 3227.9832 - val_accuracy: 0.1643\n",
            "Epoch 4/30\n",
            "35/35 [==============================] - 25s 717ms/step - loss: 2702.3674 - accuracy: 0.2018 - val_loss: 3019.3027 - val_accuracy: 0.1786\n",
            "Epoch 5/30\n",
            "35/35 [==============================] - 25s 721ms/step - loss: 2648.3762 - accuracy: 0.1705 - val_loss: 1679.0317 - val_accuracy: 0.1286\n",
            "Epoch 6/30\n",
            "35/35 [==============================] - 25s 721ms/step - loss: 2430.1829 - accuracy: 0.2045 - val_loss: 1709.4116 - val_accuracy: 0.1714\n",
            "Epoch 7/30\n",
            "35/35 [==============================] - 25s 724ms/step - loss: 2500.4438 - accuracy: 0.1946 - val_loss: 2258.8684 - val_accuracy: 0.2714\n",
            "Epoch 8/30\n",
            "35/35 [==============================] - 25s 722ms/step - loss: 3389.3008 - accuracy: 0.1991 - val_loss: 6190.9321 - val_accuracy: 0.1857\n",
            "Epoch 9/30\n",
            "35/35 [==============================] - 25s 724ms/step - loss: 4087.6602 - accuracy: 0.2107 - val_loss: 1974.3152 - val_accuracy: 0.2214\n",
            "Epoch 10/30\n",
            "35/35 [==============================] - 26s 730ms/step - loss: 3769.4062 - accuracy: 0.1777 - val_loss: 4108.5171 - val_accuracy: 0.1571\n",
            "Epoch 11/30\n",
            "35/35 [==============================] - 25s 728ms/step - loss: 4069.9800 - accuracy: 0.2089 - val_loss: 4060.7651 - val_accuracy: 0.1714\n",
            "Epoch 12/30\n",
            "35/35 [==============================] - 25s 720ms/step - loss: 4505.7056 - accuracy: 0.1982 - val_loss: 3890.7375 - val_accuracy: 0.1714\n",
            "Epoch 13/30\n",
            "35/35 [==============================] - 25s 718ms/step - loss: 3779.1438 - accuracy: 0.2054 - val_loss: 4193.1724 - val_accuracy: 0.2000\n",
            "Epoch 14/30\n",
            "35/35 [==============================] - 25s 717ms/step - loss: 4536.4058 - accuracy: 0.2062 - val_loss: 3902.0220 - val_accuracy: 0.1500\n",
            "Epoch 15/30\n",
            "35/35 [==============================] - 25s 728ms/step - loss: 5516.1523 - accuracy: 0.2036 - val_loss: 7029.9214 - val_accuracy: 0.2000\n",
            "Epoch 16/30\n",
            "35/35 [==============================] - 25s 720ms/step - loss: 7061.4038 - accuracy: 0.2125 - val_loss: 17212.4746 - val_accuracy: 0.1714\n",
            "Epoch 17/30\n",
            "35/35 [==============================] - 25s 727ms/step - loss: 8629.6406 - accuracy: 0.2027 - val_loss: 14500.1963 - val_accuracy: 0.1643\n",
            "Epoch 18/30\n",
            "35/35 [==============================] - 25s 720ms/step - loss: 9080.9697 - accuracy: 0.2062 - val_loss: 5554.7334 - val_accuracy: 0.1500\n",
            "Epoch 19/30\n",
            "35/35 [==============================] - 25s 727ms/step - loss: 8283.7783 - accuracy: 0.2241 - val_loss: 8727.4727 - val_accuracy: 0.3071\n",
            "Epoch 20/30\n",
            "35/35 [==============================] - 25s 712ms/step - loss: 10373.8828 - accuracy: 0.1920 - val_loss: 12789.8193 - val_accuracy: 0.1857\n",
            "Epoch 21/30\n",
            "35/35 [==============================] - 25s 719ms/step - loss: 12803.9863 - accuracy: 0.1884 - val_loss: 13052.9678 - val_accuracy: 0.1714\n",
            "Epoch 22/30\n",
            "35/35 [==============================] - 25s 726ms/step - loss: 9464.8174 - accuracy: 0.2232 - val_loss: 12830.3105 - val_accuracy: 0.1429\n",
            "Epoch 23/30\n",
            "35/35 [==============================] - 25s 724ms/step - loss: 10575.2314 - accuracy: 0.2062 - val_loss: 13712.8740 - val_accuracy: 0.1643\n",
            "Epoch 24/30\n",
            "35/35 [==============================] - 25s 718ms/step - loss: 14750.9844 - accuracy: 0.2321 - val_loss: 10770.4443 - val_accuracy: 0.1786\n",
            "Epoch 25/30\n",
            "35/35 [==============================] - 25s 725ms/step - loss: 15930.8389 - accuracy: 0.2071 - val_loss: 10785.3516 - val_accuracy: 0.1714\n",
            "Epoch 26/30\n",
            "35/35 [==============================] - 25s 726ms/step - loss: 14540.2871 - accuracy: 0.2009 - val_loss: 7061.8911 - val_accuracy: 0.3643\n",
            "Epoch 27/30\n",
            "35/35 [==============================] - 25s 722ms/step - loss: 15139.9141 - accuracy: 0.2134 - val_loss: 18371.1484 - val_accuracy: 0.2286\n",
            "Epoch 28/30\n",
            "35/35 [==============================] - 25s 726ms/step - loss: 20442.9082 - accuracy: 0.2080 - val_loss: 14163.0029 - val_accuracy: 0.3500\n",
            "Epoch 29/30\n",
            "35/35 [==============================] - 26s 730ms/step - loss: 21816.1758 - accuracy: 0.1973 - val_loss: 25474.0879 - val_accuracy: 0.2429\n",
            "Epoch 30/30\n",
            "35/35 [==============================] - 25s 728ms/step - loss: 23403.5625 - accuracy: 0.2143 - val_loss: 11641.1465 - val_accuracy: 0.2071\n"
          ]
        },
        {
          "output_type": "error",
          "ename": "NameError",
          "evalue": "name 'history' is not defined",
          "traceback": [
            "\u001b[0;31m---------------------------------------------------------------------------\u001b[0m",
            "\u001b[0;31mNameError\u001b[0m                                 Traceback (most recent call last)",
            "\u001b[0;32m<ipython-input-38-15195c61eb0a>\u001b[0m in \u001b[0;36m<cell line: 39>\u001b[0;34m()\u001b[0m\n\u001b[1;32m     37\u001b[0m                     validation_data=(X_val, y_val))\n\u001b[1;32m     38\u001b[0m \u001b[0;34m\u001b[0m\u001b[0m\n\u001b[0;32m---> 39\u001b[0;31m \u001b[0mpd\u001b[0m\u001b[0;34m.\u001b[0m\u001b[0mDataFrame\u001b[0m\u001b[0;34m(\u001b[0m\u001b[0mhistory\u001b[0m\u001b[0;34m.\u001b[0m\u001b[0mhistory\u001b[0m\u001b[0;34m)\u001b[0m\u001b[0;34m.\u001b[0m\u001b[0mplot\u001b[0m\u001b[0;34m(\u001b[0m\u001b[0mfigsize\u001b[0m\u001b[0;34m=\u001b[0m\u001b[0;34m(\u001b[0m\u001b[0;36m8\u001b[0m\u001b[0;34m,\u001b[0m \u001b[0;36m5\u001b[0m\u001b[0;34m)\u001b[0m\u001b[0;34m)\u001b[0m\u001b[0;34m\u001b[0m\u001b[0;34m\u001b[0m\u001b[0m\n\u001b[0m\u001b[1;32m     40\u001b[0m \u001b[0mplt\u001b[0m\u001b[0;34m.\u001b[0m\u001b[0mgrid\u001b[0m\u001b[0;34m(\u001b[0m\u001b[0;32mTrue\u001b[0m\u001b[0;34m)\u001b[0m\u001b[0;34m\u001b[0m\u001b[0;34m\u001b[0m\u001b[0m\n\u001b[1;32m     41\u001b[0m \u001b[0mplt\u001b[0m\u001b[0;34m.\u001b[0m\u001b[0mgca\u001b[0m\u001b[0;34m(\u001b[0m\u001b[0;34m)\u001b[0m\u001b[0;34m.\u001b[0m\u001b[0mset_ylim\u001b[0m\u001b[0;34m(\u001b[0m\u001b[0;36m0\u001b[0m\u001b[0;34m,\u001b[0m \u001b[0;36m1\u001b[0m\u001b[0;34m)\u001b[0m\u001b[0;34m\u001b[0m\u001b[0;34m\u001b[0m\u001b[0m\n",
            "\u001b[0;31mNameError\u001b[0m: name 'history' is not defined"
          ]
        }
      ]
    },
    {
      "cell_type": "code",
      "source": [
        "pd.DataFrame(historysgd.history).plot(figsize=(8, 5))\n",
        "plt.grid(True)\n",
        "plt.gca().set_ylim(0, 1)\n",
        "\n",
        "plt.show()\n",
        "\n",
        "\n",
        "pd.DataFrame(historysgd.history).plot(figsize=(8, 5))\n",
        "plt.grid(True)\n",
        "plt.gca().set_ylim(0, 1)\n",
        "\n",
        "plt.show()"
      ],
      "metadata": {
        "id": "LnUGsQ_46u6k",
        "colab": {
          "base_uri": "https://localhost:8080/",
          "height": 885
        },
        "outputId": "14a60dbc-ff2f-4409-94cb-4ac13f1b72a9"
      },
      "execution_count": 40,
      "outputs": [
        {
          "output_type": "display_data",
          "data": {
            "text/plain": [
              "<Figure size 800x500 with 1 Axes>"
            ],
            "image/png": "[encoded data removed]"
          },
          "metadata": {}
        },
        {
          "output_type": "display_data",
          "data": {
            "text/plain": [
              "<Figure size 800x500 with 1 Axes>"
            ],
            "image/png": "[encoded data removed]"
          },
          "metadata": {}
        }
      ]
    },
    {
      "cell_type": "code",
      "source": [],
      "metadata": {
        "id": "ziwJQoaBukZx"
      },
      "execution_count": null,
      "outputs": []
    }
  ]
}